{
  "nbformat": 4,
  "nbformat_minor": 0,
  "metadata": {
    "colab": {
      "provenance": []
    },
    "kernelspec": {
      "name": "python3",
      "display_name": "Python 3"
    },
    "language_info": {
      "name": "python"
    }
  },
  "cells": [
    {
      "cell_type": "markdown",
      "source": [
        "Tiff to Jpg"
      ],
      "metadata": {
        "id": "FAH0IhaZYV4o"
      }
    },
    {
      "cell_type": "code",
      "source": [
        "import cv2, os\n",
        "from PIL import Image\n",
        "\n",
        "base_path = \"./validation/validation/tenniscourt/\"\n",
        "for infile in os.listdir(base_path):\n",
        "  if os.path.splitext(os.path.join(base_path, infile))[1].lower() == \".tif\":\n",
        "    print (\"file : \" + infile)\n",
        "    print(os.path.join(base_path, infile))\n",
        "    outfile = os.path.splitext(os.path.join(base_path, infile))[0] + \".jpg\"    \n",
        "    im = Image.open(os.path.join(base_path, infile))\n",
        "    print(\"Generating jpeg for: \" + infile)\n",
        "    im.thumbnail(im.size)\n",
        "    im.save(outfile, \"JPEG\", quality=100)"
      ],
      "metadata": {
        "id": "6Gf02qYDYaB_"
      },
      "execution_count": null,
      "outputs": []
    },
    {
      "cell_type": "markdown",
      "source": [
        "Data Augmentations"
      ],
      "metadata": {
        "id": "tUg2bwb_YdoV"
      }
    },
    {
      "cell_type": "code",
      "source": [
        "class_names = ['agricultural', 'airplane', 'baseballdiamond', \n",
        "          'beach', 'buildings', 'chaparral',\n",
        "          'denseresidential', 'forest', 'freeway',\n",
        "          'golfcourse', 'harbor', 'intersection',\n",
        "          'mediumresidential', 'mobilehomepark', 'overpass',\n",
        "          'parkinglot', 'river', 'runway',\n",
        "          'sparseresidential', 'storagetanks', 'tenniscourt'] \n",
        "class_angle = [90, 180, 270]\n",
        "dir_path = \"./content/train/\"\n",
        "for i in class_names:\n",
        "  print(i)\n",
        "  base_path = dir_path + i + \"/\"\n",
        "  print(base_path)\n",
        "  for infile in os.listdir(base_path):\n",
        "    print(infile)\n",
        "    nameArr = infile.split('.')\n",
        "    print(nameArr)\n",
        "    if os.path.splitext(os.path.join(base_path, infile))[1].lower() == \".jpg\":\n",
        "      for r in class_angle:\n",
        "        newName = nameArr[0] + \"_rotate\" + str(r) + \".jpg\"\n",
        "        newPath = base_path + newName\n",
        "        print(newName)\n",
        "        print(newPath)\n",
        "        img = Image.open(base_path + infile)\n",
        "        img = img.rotate(r)\n",
        "        img.save(newPath)"
      ],
      "metadata": {
        "id": "52nIQoXJYmYe"
      },
      "execution_count": null,
      "outputs": []
    },
    {
      "cell_type": "markdown",
      "source": [
        "Sort image to different folder"
      ],
      "metadata": {
        "id": "96jttVNyY1Lr"
      }
    },
    {
      "cell_type": "code",
      "source": [
        "import os\n",
        "import shutil\n",
        "\n",
        "file = open('./fold.txt')\n",
        "filename = file.readline()\n",
        "while filename:\n",
        "    filename = file.readline()\n",
        "    nameArr = filename.split('.')\n",
        "    nameArr[-1] = nameArr[-1].strip()\n",
        "    imgClass = nameArr[0]\n",
        "    print(\"fileName\", filename)\n",
        "    print(\"imgClass: \", imgClass)\n",
        "    nameArr.pop(0)\n",
        "    picName = \"\"\n",
        "    for i in range(len(nameArr)):\n",
        "      if i == 0:\n",
        "        picName += nameArr[i]\n",
        "      else:\n",
        "        picName += '.' + nameArr[i]\n",
        "    if imgClass == 'noncoffee':\n",
        "      oldPath = './fold/' + picName + '.jpg'\n",
        "      newPath = './noncoffee/' + picName + '.jpg'\n",
        "      shutil.move(oldPath, newPath)\n",
        "    else:\n",
        "      oldPath = './fold/' + picName + '.jpg'\n",
        "      newPath = './coffee/' + picName + '.jpg'      \n",
        "      shutil.move(oldPath, newPath)"
      ],
      "metadata": {
        "id": "vFSHFf4IYox1"
      },
      "execution_count": null,
      "outputs": []
    },
    {
      "cell_type": "markdown",
      "source": [
        "Label excel"
      ],
      "metadata": {
        "id": "RvH0C-VhY6PO"
      }
    },
    {
      "cell_type": "code",
      "source": [
        "import csv\n",
        "lines = list()\n",
        "\n",
        "# members= input(\"Please enter a member's name to be deleted.\")\n",
        "\n",
        "count = 0\n",
        "with open('sample_submission.csv', 'r') as readFile:\n",
        "\n",
        "    reader = csv.reader(readFile)\n",
        "\n",
        "    for row in reader:\n",
        "        print(row)\n",
        "        lines.append(row)\n",
        "        if count == 0:\n",
        "          count = count + 1\n",
        "          continue\n",
        "        else:\n",
        "          name = row[0].split('_')\n",
        "          num = int(name[1])\n",
        "\n",
        "        \n",
        "          if num > 3998:\n",
        "            break;\n",
        "\n",
        "          # for field in row:\n",
        "\n",
        "          #     if field == members:\n",
        "\n",
        "          #         lines.remove(row)\n",
        "\n",
        "with open('mycsv.csv', 'w') as writeFile:\n",
        "\n",
        "    writer = csv.writer(writeFile)\n",
        "\n",
        "    writer.writerows(lines)"
      ],
      "metadata": {
        "id": "I_V8BhE7ZNFr"
      },
      "execution_count": null,
      "outputs": []
    },
    {
      "cell_type": "markdown",
      "source": [
        "Download file"
      ],
      "metadata": {
        "id": "VQB9LGypZeKm"
      }
    },
    {
      "cell_type": "code",
      "source": [
        "!zip -r /content/validation_processed.zip /content/validation/validation\n",
        "from google.colab import files\n",
        "files.download(\"/content/validation_processed.zip\")"
      ],
      "metadata": {
        "id": "vTMtbrCqZhDa"
      },
      "execution_count": null,
      "outputs": []
    }
  ]
}