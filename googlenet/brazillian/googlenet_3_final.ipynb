{
 "cells": [
  {
   "cell_type": "code",
   "execution_count": 1,
   "id": "weekly-guitar",
   "metadata": {},
   "outputs": [
    {
     "name": "stderr",
     "output_type": "stream",
     "text": [
      "/home/csci8523/ganta016/.local/lib/python3.8/site-packages/pandas/core/computation/expressions.py:20: UserWarning: Pandas requires version '2.7.3' or newer of 'numexpr' (version '2.7.1' currently installed).\n",
      "  from pandas.core.computation.check import NUMEXPR_INSTALLED\n"
     ]
    }
   ],
   "source": [
    "import matplotlib\n",
    "import matplotlib.pyplot as plt\n",
    "\n",
    "import numpy as np\n",
    "import os\n",
    "\n",
    "from skimage.io import imread, imsave\n",
    "from keras.optimizers import Adam\n",
    "from keras import applications\n",
    "from keras.models import Sequential\n",
    "from keras.layers import Activation, Dense, Dropout, Flatten\n",
    "from keras.utils import to_categorical\n",
    "from keras.preprocessing.image import ImageDataGenerator\n",
    "\n",
    "from sklearn.model_selection import train_test_split\n",
    "from sklearn.metrics import accuracy_score, classification_report\n",
    "\n",
    "%matplotlib inline"
   ]
  },
  {
   "cell_type": "code",
   "execution_count": 2,
   "id": "lyric-instrumentation",
   "metadata": {},
   "outputs": [],
   "source": [
    "source_dir = os.path.join('brazilian_coffee_dataset', 'Images')"
   ]
  },
  {
   "cell_type": "code",
   "execution_count": 3,
   "id": "disturbed-jungle",
   "metadata": {},
   "outputs": [
    {
     "data": {
      "image/png": "[encoded data removed]",
      "text/plain": [
       "<Figure size 432x288 with 1 Axes>"
      ]
     },
     "metadata": {
      "needs_background": "light"
     },
     "output_type": "display_data"
    }
   ],
   "source": [
    "plt.imshow(imread('brazilian_coffee_dataset/Images/coffee/arceburgo.T1024.B1088.L4480.R4544.jpg'))\n",
    "plt.axis('off')\n",
    "plt.show()"
   ]
  },
  {
   "cell_type": "code",
   "execution_count": 4,
   "id": "effective-narrative",
   "metadata": {},
   "outputs": [],
   "source": [
    "labels = os.listdir(source_dir)"
   ]
  },
  {
   "cell_type": "code",
   "execution_count": 5,
   "id": "applied-proxy",
   "metadata": {},
   "outputs": [],
   "source": [
    "pretrained_model = applications.InceptionV3(include_top=False, weights='imagenet')\n",
    "pretrained_model.trainable = False"
   ]
  },
  {
   "cell_type": "code",
   "execution_count": 6,
   "id": "cubic-maintenance",
   "metadata": {},
   "outputs": [
    {
     "name": "stdout",
     "output_type": "stream",
     "text": [
      "Found 2876 images belonging to 2 classes.\n"
     ]
    }
   ],
   "source": [
    "image_data_generator = ImageDataGenerator(rescale=1/255.0)\n",
    "image_generator = image_data_generator.flow_from_directory(source_dir,\n",
    "                                                        batch_size=64,\n",
    "                                                        shuffle=False\n",
    "                                                        )\n",
    "count = 0\n",
    "X_batches, Y_batches = [], []\n",
    "for X, Y in image_generator:\n",
    "    X_batches.append(pretrained_model.predict_on_batch(X))\n",
    "    Y_batches.append(Y)\n",
    "    count += X.shape[0]\n",
    "    if count >= image_generator.n:\n",
    "        break\n",
    "\n",
    "x_data = np.concatenate(X_batches)\n",
    "y_data = np.concatenate(Y_batches)"
   ]
  },
  {
   "cell_type": "code",
   "execution_count": 7,
   "id": "instrumental-belgium",
   "metadata": {},
   "outputs": [],
   "source": [
    "x_train, x_val, y_train, y_val = train_test_split(x_data, y_data, test_size = 0.4, random_state=101)\n",
    "x_test, x_val, y_test, y_val = train_test_split(x_val, y_val, test_size = 0.5, random_state=101)"
   ]
  },
  {
   "cell_type": "code",
   "execution_count": 8,
   "id": "split-ministry",
   "metadata": {},
   "outputs": [],
   "source": [
    "model = Sequential()\n",
    "model.add(Flatten(input_shape=x_train.shape[1:]))\n",
    "model.add(Dense(256))\n",
    "model.add(Activation('relu'))\n",
    "model.add(Dropout(0.5))\n",
    "model.add(Dense(len(labels), activation='softmax'))"
   ]
  },
  {
   "cell_type": "code",
   "execution_count": 9,
   "id": "coastal-debut",
   "metadata": {},
   "outputs": [
    {
     "name": "stderr",
     "output_type": "stream",
     "text": [
      "/home/csci8523/ganta016/.local/lib/python3.8/site-packages/keras/optimizers/optimizer_v2/adam.py:117: UserWarning: The `lr` argument is deprecated, use `learning_rate` instead.\n",
      "  super().__init__(name, **kwargs)\n"
     ]
    },
    {
     "name": "stdout",
     "output_type": "stream",
     "text": [
      "Epoch 1/100\n",
      "27/27 - 3s - loss: 0.9118 - accuracy: 0.7200 - val_loss: 0.4106 - val_accuracy: 0.8194 - 3s/epoch - 103ms/step\n",
      "Epoch 2/100\n",
      "27/27 - 2s - loss: 0.3198 - accuracy: 0.8643 - val_loss: 0.3888 - val_accuracy: 0.8385 - 2s/epoch - 62ms/step\n",
      "Epoch 3/100\n",
      "27/27 - 2s - loss: 0.2362 - accuracy: 0.9055 - val_loss: 0.3970 - val_accuracy: 0.8333 - 2s/epoch - 56ms/step\n",
      "Epoch 4/100\n",
      "27/27 - 2s - loss: 0.1711 - accuracy: 0.9443 - val_loss: 0.4094 - val_accuracy: 0.8385 - 2s/epoch - 58ms/step\n",
      "Epoch 5/100\n",
      "27/27 - 2s - loss: 0.1170 - accuracy: 0.9612 - val_loss: 0.4633 - val_accuracy: 0.8368 - 2s/epoch - 75ms/step\n",
      "Epoch 6/100\n",
      "27/27 - 1s - loss: 0.0910 - accuracy: 0.9728 - val_loss: 0.4374 - val_accuracy: 0.8490 - 1s/epoch - 45ms/step\n",
      "Epoch 7/100\n",
      "27/27 - 1s - loss: 0.0644 - accuracy: 0.9872 - val_loss: 0.4372 - val_accuracy: 0.8403 - 1s/epoch - 53ms/step\n",
      "Epoch 8/100\n",
      "27/27 - 2s - loss: 0.0465 - accuracy: 0.9884 - val_loss: 0.4700 - val_accuracy: 0.8368 - 2s/epoch - 75ms/step\n",
      "Epoch 9/100\n",
      "27/27 - 1s - loss: 0.0419 - accuracy: 0.9930 - val_loss: 0.4819 - val_accuracy: 0.8385 - 1s/epoch - 48ms/step\n",
      "Epoch 10/100\n",
      "27/27 - 1s - loss: 0.0370 - accuracy: 0.9936 - val_loss: 0.4941 - val_accuracy: 0.8438 - 1s/epoch - 52ms/step\n",
      "Epoch 11/100\n",
      "27/27 - 2s - loss: 0.0233 - accuracy: 0.9977 - val_loss: 0.5480 - val_accuracy: 0.8385 - 2s/epoch - 72ms/step\n",
      "Epoch 12/100\n",
      "27/27 - 1s - loss: 0.0246 - accuracy: 0.9959 - val_loss: 0.5161 - val_accuracy: 0.8385 - 1s/epoch - 50ms/step\n",
      "Epoch 13/100\n",
      "27/27 - 1s - loss: 0.0194 - accuracy: 0.9954 - val_loss: 0.5250 - val_accuracy: 0.8472 - 1s/epoch - 51ms/step\n",
      "Epoch 14/100\n",
      "27/27 - 2s - loss: 0.0196 - accuracy: 0.9971 - val_loss: 0.5349 - val_accuracy: 0.8472 - 2s/epoch - 68ms/step\n",
      "Epoch 15/100\n",
      "27/27 - 1s - loss: 0.0139 - accuracy: 0.9988 - val_loss: 0.5698 - val_accuracy: 0.8438 - 1s/epoch - 53ms/step\n",
      "Epoch 16/100\n",
      "27/27 - 1s - loss: 0.0120 - accuracy: 0.9994 - val_loss: 0.5777 - val_accuracy: 0.8438 - 1s/epoch - 55ms/step\n",
      "Epoch 17/100\n",
      "27/27 - 2s - loss: 0.0096 - accuracy: 0.9988 - val_loss: 0.5880 - val_accuracy: 0.8507 - 2s/epoch - 64ms/step\n",
      "Epoch 18/100\n",
      "27/27 - 2s - loss: 0.0102 - accuracy: 0.9988 - val_loss: 0.5717 - val_accuracy: 0.8420 - 2s/epoch - 62ms/step\n",
      "Epoch 19/100\n",
      "27/27 - 1s - loss: 0.0083 - accuracy: 0.9994 - val_loss: 0.6275 - val_accuracy: 0.8420 - 1s/epoch - 49ms/step\n",
      "Epoch 20/100\n",
      "27/27 - 1s - loss: 0.0082 - accuracy: 0.9994 - val_loss: 0.5988 - val_accuracy: 0.8490 - 1s/epoch - 51ms/step\n",
      "Epoch 21/100\n",
      "27/27 - 1s - loss: 0.0061 - accuracy: 1.0000 - val_loss: 0.6540 - val_accuracy: 0.8472 - 1s/epoch - 54ms/step\n",
      "Epoch 22/100\n",
      "27/27 - 1s - loss: 0.0065 - accuracy: 1.0000 - val_loss: 0.6088 - val_accuracy: 0.8438 - 1s/epoch - 49ms/step\n",
      "Epoch 23/100\n",
      "27/27 - 1s - loss: 0.0058 - accuracy: 1.0000 - val_loss: 0.6308 - val_accuracy: 0.8351 - 1s/epoch - 47ms/step\n",
      "Epoch 24/100\n",
      "27/27 - 1s - loss: 0.0049 - accuracy: 0.9994 - val_loss: 0.6488 - val_accuracy: 0.8507 - 1s/epoch - 43ms/step\n",
      "Epoch 25/100\n",
      "27/27 - 1s - loss: 0.0052 - accuracy: 1.0000 - val_loss: 0.6722 - val_accuracy: 0.8438 - 1s/epoch - 49ms/step\n",
      "Epoch 26/100\n",
      "27/27 - 1s - loss: 0.0060 - accuracy: 0.9988 - val_loss: 0.6184 - val_accuracy: 0.8455 - 1s/epoch - 49ms/step\n",
      "Epoch 27/100\n",
      "27/27 - 1s - loss: 0.0046 - accuracy: 1.0000 - val_loss: 0.6563 - val_accuracy: 0.8403 - 1s/epoch - 50ms/step\n",
      "Epoch 28/100\n",
      "27/27 - 1s - loss: 0.0036 - accuracy: 1.0000 - val_loss: 0.6596 - val_accuracy: 0.8455 - 1s/epoch - 49ms/step\n",
      "Epoch 29/100\n",
      "27/27 - 1s - loss: 0.0030 - accuracy: 1.0000 - val_loss: 0.6732 - val_accuracy: 0.8438 - 1s/epoch - 43ms/step\n",
      "Epoch 30/100\n",
      "27/27 - 2s - loss: 0.0032 - accuracy: 1.0000 - val_loss: 0.6910 - val_accuracy: 0.8438 - 2s/epoch - 67ms/step\n",
      "Epoch 31/100\n",
      "27/27 - 2s - loss: 0.0034 - accuracy: 1.0000 - val_loss: 0.7191 - val_accuracy: 0.8368 - 2s/epoch - 57ms/step\n",
      "Epoch 32/100\n",
      "27/27 - 1s - loss: 0.0027 - accuracy: 1.0000 - val_loss: 0.7091 - val_accuracy: 0.8438 - 1s/epoch - 48ms/step\n",
      "Epoch 33/100\n",
      "27/27 - 1s - loss: 0.0025 - accuracy: 1.0000 - val_loss: 0.7004 - val_accuracy: 0.8472 - 1s/epoch - 43ms/step\n",
      "Epoch 34/100\n",
      "27/27 - 1s - loss: 0.0020 - accuracy: 1.0000 - val_loss: 0.6956 - val_accuracy: 0.8455 - 1s/epoch - 50ms/step\n",
      "Epoch 35/100\n",
      "27/27 - 2s - loss: 0.0024 - accuracy: 1.0000 - val_loss: 0.7066 - val_accuracy: 0.8438 - 2s/epoch - 65ms/step\n",
      "Epoch 36/100\n",
      "27/27 - 2s - loss: 0.0029 - accuracy: 1.0000 - val_loss: 0.6853 - val_accuracy: 0.8524 - 2s/epoch - 71ms/step\n",
      "Epoch 37/100\n",
      "27/27 - 1s - loss: 0.0022 - accuracy: 1.0000 - val_loss: 0.7354 - val_accuracy: 0.8455 - 1s/epoch - 47ms/step\n",
      "Epoch 38/100\n",
      "27/27 - 1s - loss: 0.0022 - accuracy: 1.0000 - val_loss: 0.7708 - val_accuracy: 0.8438 - 1s/epoch - 52ms/step\n",
      "Epoch 39/100\n",
      "27/27 - 2s - loss: 0.0019 - accuracy: 1.0000 - val_loss: 0.7390 - val_accuracy: 0.8542 - 2s/epoch - 65ms/step\n",
      "Epoch 40/100\n",
      "27/27 - 2s - loss: 0.0015 - accuracy: 1.0000 - val_loss: 0.7463 - val_accuracy: 0.8507 - 2s/epoch - 69ms/step\n",
      "Epoch 41/100\n",
      "27/27 - 1s - loss: 0.0018 - accuracy: 1.0000 - val_loss: 0.7441 - val_accuracy: 0.8438 - 1s/epoch - 51ms/step\n",
      "Epoch 42/100\n",
      "27/27 - 1s - loss: 0.0013 - accuracy: 1.0000 - val_loss: 0.7585 - val_accuracy: 0.8559 - 1s/epoch - 52ms/step\n",
      "Epoch 43/100\n",
      "27/27 - 2s - loss: 0.0016 - accuracy: 1.0000 - val_loss: 0.7563 - val_accuracy: 0.8455 - 2s/epoch - 59ms/step\n",
      "Epoch 44/100\n",
      "27/27 - 2s - loss: 0.0012 - accuracy: 1.0000 - val_loss: 0.7718 - val_accuracy: 0.8524 - 2s/epoch - 71ms/step\n",
      "Epoch 45/100\n",
      "27/27 - 1s - loss: 0.0025 - accuracy: 0.9994 - val_loss: 0.6803 - val_accuracy: 0.8559 - 1s/epoch - 49ms/step\n",
      "Epoch 46/100\n",
      "27/27 - 1s - loss: 0.0025 - accuracy: 1.0000 - val_loss: 0.7283 - val_accuracy: 0.8472 - 1s/epoch - 53ms/step\n",
      "Epoch 47/100\n",
      "27/27 - 2s - loss: 0.0017 - accuracy: 1.0000 - val_loss: 0.7461 - val_accuracy: 0.8524 - 2s/epoch - 71ms/step\n",
      "Epoch 48/100\n",
      "27/27 - 2s - loss: 0.0017 - accuracy: 1.0000 - val_loss: 0.7443 - val_accuracy: 0.8559 - 2s/epoch - 68ms/step\n",
      "Epoch 49/100\n",
      "27/27 - 1s - loss: 0.0011 - accuracy: 1.0000 - val_loss: 0.7781 - val_accuracy: 0.8594 - 1s/epoch - 48ms/step\n",
      "Epoch 50/100\n",
      "27/27 - 1s - loss: 0.0010 - accuracy: 1.0000 - val_loss: 0.7872 - val_accuracy: 0.8542 - 1s/epoch - 51ms/step\n",
      "Epoch 51/100\n",
      "27/27 - 2s - loss: 0.0016 - accuracy: 1.0000 - val_loss: 0.7537 - val_accuracy: 0.8472 - 2s/epoch - 75ms/step\n",
      "Epoch 52/100\n",
      "27/27 - 2s - loss: 0.0019 - accuracy: 1.0000 - val_loss: 0.7472 - val_accuracy: 0.8490 - 2s/epoch - 71ms/step\n",
      "Epoch 53/100\n",
      "27/27 - 1s - loss: 9.3426e-04 - accuracy: 1.0000 - val_loss: 0.8018 - val_accuracy: 0.8507 - 1s/epoch - 48ms/step\n",
      "Epoch 54/100\n",
      "27/27 - 1s - loss: 7.6041e-04 - accuracy: 1.0000 - val_loss: 0.7953 - val_accuracy: 0.8490 - 1s/epoch - 49ms/step\n",
      "Epoch 55/100\n",
      "27/27 - 2s - loss: 0.0014 - accuracy: 1.0000 - val_loss: 0.7828 - val_accuracy: 0.8420 - 2s/epoch - 69ms/step\n",
      "Epoch 56/100\n",
      "27/27 - 2s - loss: 0.0012 - accuracy: 1.0000 - val_loss: 0.8027 - val_accuracy: 0.8472 - 2s/epoch - 76ms/step\n",
      "Epoch 57/100\n",
      "27/27 - 1s - loss: 0.0012 - accuracy: 1.0000 - val_loss: 0.7891 - val_accuracy: 0.8455 - 1s/epoch - 53ms/step\n",
      "Epoch 58/100\n",
      "27/27 - 1s - loss: 8.4198e-04 - accuracy: 1.0000 - val_loss: 0.8121 - val_accuracy: 0.8490 - 1s/epoch - 54ms/step\n",
      "Epoch 59/100\n",
      "27/27 - 2s - loss: 9.2148e-04 - accuracy: 1.0000 - val_loss: 0.8057 - val_accuracy: 0.8455 - 2s/epoch - 59ms/step\n",
      "Epoch 60/100\n",
      "27/27 - 2s - loss: 9.7220e-04 - accuracy: 1.0000 - val_loss: 0.7887 - val_accuracy: 0.8403 - 2s/epoch - 76ms/step\n",
      "Epoch 61/100\n",
      "27/27 - 2s - loss: 9.7566e-04 - accuracy: 1.0000 - val_loss: 0.8394 - val_accuracy: 0.8472 - 2s/epoch - 57ms/step\n",
      "Epoch 62/100\n",
      "27/27 - 1s - loss: 7.0817e-04 - accuracy: 1.0000 - val_loss: 0.8634 - val_accuracy: 0.8455 - 1s/epoch - 52ms/step\n",
      "Epoch 63/100\n",
      "27/27 - 1s - loss: 0.0011 - accuracy: 1.0000 - val_loss: 0.8327 - val_accuracy: 0.8490 - 1s/epoch - 50ms/step\n",
      "Epoch 64/100\n",
      "27/27 - 2s - loss: 7.2464e-04 - accuracy: 1.0000 - val_loss: 0.8332 - val_accuracy: 0.8472 - 2s/epoch - 90ms/step\n",
      "Epoch 65/100\n",
      "27/27 - 1s - loss: 7.6482e-04 - accuracy: 1.0000 - val_loss: 0.8356 - val_accuracy: 0.8403 - 1s/epoch - 54ms/step\n",
      "Epoch 66/100\n",
      "27/27 - 1s - loss: 6.4330e-04 - accuracy: 1.0000 - val_loss: 0.8590 - val_accuracy: 0.8438 - 1s/epoch - 46ms/step\n",
      "Epoch 67/100\n",
      "27/27 - 1s - loss: 8.0062e-04 - accuracy: 1.0000 - val_loss: 0.8315 - val_accuracy: 0.8507 - 1s/epoch - 52ms/step\n",
      "Epoch 68/100\n",
      "27/27 - 2s - loss: 5.9699e-04 - accuracy: 1.0000 - val_loss: 0.8790 - val_accuracy: 0.8403 - 2s/epoch - 72ms/step\n",
      "Epoch 69/100\n",
      "27/27 - 2s - loss: 4.1714e-04 - accuracy: 1.0000 - val_loss: 0.8654 - val_accuracy: 0.8472 - 2s/epoch - 71ms/step\n",
      "Epoch 70/100\n",
      "27/27 - 1s - loss: 0.0014 - accuracy: 1.0000 - val_loss: 0.8278 - val_accuracy: 0.8490 - 1s/epoch - 47ms/step\n",
      "Epoch 71/100\n",
      "27/27 - 1s - loss: 6.9848e-04 - accuracy: 1.0000 - val_loss: 0.8767 - val_accuracy: 0.8507 - 1s/epoch - 48ms/step\n",
      "Epoch 72/100\n",
      "27/27 - 2s - loss: 7.0319e-04 - accuracy: 1.0000 - val_loss: 0.8624 - val_accuracy: 0.8490 - 2s/epoch - 64ms/step\n",
      "Epoch 73/100\n",
      "27/27 - 2s - loss: 5.7964e-04 - accuracy: 1.0000 - val_loss: 0.8610 - val_accuracy: 0.8472 - 2s/epoch - 75ms/step\n",
      "Epoch 74/100\n",
      "27/27 - 1s - loss: 4.7125e-04 - accuracy: 1.0000 - val_loss: 0.8709 - val_accuracy: 0.8455 - 1s/epoch - 54ms/step\n",
      "Epoch 75/100\n",
      "27/27 - 1s - loss: 5.4053e-04 - accuracy: 1.0000 - val_loss: 0.8764 - val_accuracy: 0.8420 - 1s/epoch - 54ms/step\n",
      "Epoch 76/100\n",
      "27/27 - 2s - loss: 4.9952e-04 - accuracy: 1.0000 - val_loss: 0.8895 - val_accuracy: 0.8438 - 2s/epoch - 68ms/step\n",
      "Epoch 77/100\n",
      "27/27 - 2s - loss: 4.2136e-04 - accuracy: 1.0000 - val_loss: 0.8770 - val_accuracy: 0.8455 - 2s/epoch - 77ms/step\n",
      "Epoch 78/100\n",
      "27/27 - 1s - loss: 4.4066e-04 - accuracy: 1.0000 - val_loss: 0.8960 - val_accuracy: 0.8472 - 1s/epoch - 52ms/step\n",
      "Epoch 79/100\n",
      "27/27 - 1s - loss: 4.2590e-04 - accuracy: 1.0000 - val_loss: 0.8967 - val_accuracy: 0.8385 - 1s/epoch - 48ms/step\n",
      "Epoch 80/100\n",
      "27/27 - 1s - loss: 2.6836e-04 - accuracy: 1.0000 - val_loss: 0.9111 - val_accuracy: 0.8385 - 1s/epoch - 50ms/step\n",
      "Epoch 81/100\n",
      "27/27 - 2s - loss: 0.0011 - accuracy: 1.0000 - val_loss: 0.8983 - val_accuracy: 0.8299 - 2s/epoch - 83ms/step\n",
      "Epoch 82/100\n",
      "27/27 - 2s - loss: 7.0225e-04 - accuracy: 1.0000 - val_loss: 0.9086 - val_accuracy: 0.8385 - 2s/epoch - 58ms/step\n",
      "Epoch 83/100\n",
      "27/27 - 1s - loss: 8.5360e-04 - accuracy: 1.0000 - val_loss: 0.8779 - val_accuracy: 0.8438 - 1s/epoch - 43ms/step\n",
      "Epoch 84/100\n",
      "27/27 - 1s - loss: 6.5318e-04 - accuracy: 1.0000 - val_loss: 0.8941 - val_accuracy: 0.8403 - 1s/epoch - 51ms/step\n",
      "Epoch 85/100\n",
      "27/27 - 2s - loss: 5.0309e-04 - accuracy: 1.0000 - val_loss: 0.9255 - val_accuracy: 0.8368 - 2s/epoch - 72ms/step\n",
      "Epoch 86/100\n",
      "27/27 - 2s - loss: 2.5065e-04 - accuracy: 1.0000 - val_loss: 0.9309 - val_accuracy: 0.8385 - 2s/epoch - 73ms/step\n",
      "Epoch 87/100\n",
      "27/27 - 1s - loss: 3.6137e-04 - accuracy: 1.0000 - val_loss: 0.9147 - val_accuracy: 0.8403 - 1s/epoch - 46ms/step\n",
      "Epoch 88/100\n",
      "27/27 - 2s - loss: 3.2411e-04 - accuracy: 1.0000 - val_loss: 0.9311 - val_accuracy: 0.8368 - 2s/epoch - 56ms/step\n",
      "Epoch 89/100\n",
      "27/27 - 2s - loss: 3.2564e-04 - accuracy: 1.0000 - val_loss: 0.9273 - val_accuracy: 0.8438 - 2s/epoch - 70ms/step\n",
      "Epoch 90/100\n",
      "27/27 - 2s - loss: 2.2984e-04 - accuracy: 1.0000 - val_loss: 0.9377 - val_accuracy: 0.8420 - 2s/epoch - 71ms/step\n",
      "Epoch 91/100\n",
      "27/27 - 1s - loss: 2.7822e-04 - accuracy: 1.0000 - val_loss: 0.9593 - val_accuracy: 0.8385 - 1s/epoch - 50ms/step\n",
      "Epoch 92/100\n",
      "27/27 - 1s - loss: 3.7192e-04 - accuracy: 1.0000 - val_loss: 0.9183 - val_accuracy: 0.8385 - 1s/epoch - 50ms/step\n",
      "Epoch 93/100\n",
      "27/27 - 2s - loss: 3.0117e-04 - accuracy: 1.0000 - val_loss: 0.9597 - val_accuracy: 0.8368 - 2s/epoch - 68ms/step\n",
      "Epoch 94/100\n",
      "27/27 - 2s - loss: 2.1707e-04 - accuracy: 1.0000 - val_loss: 0.9578 - val_accuracy: 0.8385 - 2s/epoch - 69ms/step\n",
      "Epoch 95/100\n",
      "27/27 - 1s - loss: 3.5695e-04 - accuracy: 1.0000 - val_loss: 0.9555 - val_accuracy: 0.8455 - 1s/epoch - 46ms/step\n",
      "Epoch 96/100\n",
      "27/27 - 1s - loss: 4.4420e-04 - accuracy: 1.0000 - val_loss: 1.0342 - val_accuracy: 0.8351 - 1s/epoch - 48ms/step\n",
      "Epoch 97/100\n",
      "27/27 - 2s - loss: 6.1778e-04 - accuracy: 1.0000 - val_loss: 0.9040 - val_accuracy: 0.8472 - 2s/epoch - 64ms/step\n",
      "Epoch 98/100\n",
      "27/27 - 2s - loss: 2.8681e-04 - accuracy: 1.0000 - val_loss: 0.9440 - val_accuracy: 0.8351 - 2s/epoch - 74ms/step\n",
      "Epoch 99/100\n",
      "27/27 - 1s - loss: 4.0709e-04 - accuracy: 1.0000 - val_loss: 0.9315 - val_accuracy: 0.8403 - 1s/epoch - 47ms/step\n",
      "Epoch 100/100\n",
      "27/27 - 1s - loss: 3.3191e-04 - accuracy: 1.0000 - val_loss: 0.9426 - val_accuracy: 0.8438 - 1s/epoch - 52ms/step\n"
     ]
    }
   ],
   "source": [
    "adam = Adam(lr=0.0001)\n",
    "model.compile(optimizer=adam, loss='categorical_crossentropy', metrics=['accuracy'])\n",
    "model_fit_history = model.fit(x_train, y_train, batch_size=64, epochs=100, verbose=2, validation_data=(x_val, y_val))"
   ]
  },
  {
   "cell_type": "code",
   "execution_count": 10,
   "id": "sitting-approach",
   "metadata": {},
   "outputs": [],
   "source": [
    "model.save_weights(\"brazilian_final_3.h5\")"
   ]
  },
  {
   "cell_type": "code",
   "execution_count": 11,
   "id": "downtown-charter",
   "metadata": {},
   "outputs": [
    {
     "data": {
      "image/png": "[encoded data removed]",
      "text/plain": [
       "<Figure size 432x288 with 1 Axes>"
      ]
     },
     "metadata": {
      "needs_background": "light"
     },
     "output_type": "display_data"
    },
    {
     "data": {
      "text/plain": [
       "<Figure size 432x288 with 0 Axes>"
      ]
     },
     "metadata": {},
     "output_type": "display_data"
    }
   ],
   "source": [
    "accuracy = model_fit_history.history['accuracy']\n",
    "val_accuracy = model_fit_history.history['val_accuracy']\n",
    "loss = model_fit_history.history['loss']\n",
    "val_loss = model_fit_history.history['val_loss']\n",
    "\n",
    "epochs = range(len(accuracy))\n",
    "\n",
    "plt.plot(epochs, accuracy, 'r', label='Training accuracy')\n",
    "plt.plot(epochs, val_accuracy, 'b', label='Validation accuracy')\n",
    "plt.title('Training and validation accuracy')\n",
    "plt.legend(loc=0)\n",
    "plt.figure()\n",
    "plt.show()"
   ]
  },
  {
   "cell_type": "code",
   "execution_count": 12,
   "id": "elementary-mount",
   "metadata": {},
   "outputs": [
    {
     "data": {
      "image/png": "[encoded data removed]",
      "text/plain": [
       "<Figure size 432x288 with 1 Axes>"
      ]
     },
     "metadata": {
      "needs_background": "light"
     },
     "output_type": "display_data"
    },
    {
     "data": {
      "text/plain": [
       "<Figure size 432x288 with 0 Axes>"
      ]
     },
     "metadata": {},
     "output_type": "display_data"
    }
   ],
   "source": [
    "plt.plot(epochs, loss, 'r', label='Training loss')\n",
    "plt.plot(epochs, val_loss, 'b', label='Validation loss')\n",
    "plt.title('Training and validation loss')\n",
    "plt.legend(loc=0)\n",
    "plt.figure()\n",
    "plt.show()"
   ]
  },
  {
   "cell_type": "code",
   "execution_count": 13,
   "id": "cordless-watts",
   "metadata": {},
   "outputs": [
    {
     "name": "stdout",
     "output_type": "stream",
     "text": [
      "18/18 [==============================] - 0s 9ms/step\n"
     ]
    }
   ],
   "source": [
    "y_pred = np.argmax(model.predict(x_test), axis=-1)"
   ]
  },
  {
   "cell_type": "code",
   "execution_count": 14,
   "id": "ecological-ecuador",
   "metadata": {},
   "outputs": [
    {
     "name": "stdout",
     "output_type": "stream",
     "text": [
      "Model predication accuracy: 0.842\n",
      "\n",
      "Classification report:\n",
      "               precision    recall  f1-score   support\n",
      "\n",
      "           0       0.84      0.85      0.85       297\n",
      "           1       0.84      0.83      0.84       278\n",
      "\n",
      "    accuracy                           0.84       575\n",
      "   macro avg       0.84      0.84      0.84       575\n",
      "weighted avg       0.84      0.84      0.84       575\n",
      "\n"
     ]
    }
   ],
   "source": [
    "y_test = np.nonzero(y_test)[1]\n",
    "accuracy = accuracy_score(y_test, y_pred)\n",
    "print(f'Model predication accuracy: {accuracy:.3f}')\n",
    "print(f'\\nClassification report:\\n {classification_report(y_test, y_pred)}')"
   ]
  },
  {
   "cell_type": "code",
   "execution_count": null,
   "id": "female-category",
   "metadata": {},
   "outputs": [],
   "source": []
  }
 ],
 "metadata": {
  "kernelspec": {
   "display_name": "Python3.8.3",
   "language": "python",
   "name": "python3.8.3"
  },
  "language_info": {
   "codemirror_mode": {
    "name": "ipython",
    "version": 3
   },
   "file_extension": ".py",
   "mimetype": "text/x-python",
   "name": "python",
   "nbconvert_exporter": "python",
   "pygments_lexer": "ipython3",
   "version": "3.8.3"
  }
 },
 "nbformat": 4,
 "nbformat_minor": 5
}
