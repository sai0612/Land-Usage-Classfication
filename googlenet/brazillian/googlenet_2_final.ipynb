{
 "cells": [
  {
   "cell_type": "code",
   "execution_count": 1,
   "id": "adopted-scanning",
   "metadata": {},
   "outputs": [
    {
     "name": "stderr",
     "output_type": "stream",
     "text": [
      "/home/csci8523/ganta016/.local/lib/python3.8/site-packages/pandas/core/computation/expressions.py:20: UserWarning: Pandas requires version '2.7.3' or newer of 'numexpr' (version '2.7.1' currently installed).\n",
      "  from pandas.core.computation.check import NUMEXPR_INSTALLED\n"
     ]
    }
   ],
   "source": [
    "import matplotlib\n",
    "import matplotlib.pyplot as plt\n",
    "\n",
    "import numpy as np\n",
    "import os\n",
    "\n",
    "from skimage.io import imread, imsave\n",
    "\n",
    "from keras import applications\n",
    "from keras.optimizers import Adam\n",
    "from keras.models import Sequential\n",
    "from keras.layers import Activation, Dense, Dropout, Flatten, GlobalAveragePooling2D\n",
    "from keras.utils import to_categorical\n",
    "from keras.preprocessing.image import ImageDataGenerator\n",
    "from keras import Model\n",
    "\n",
    "from sklearn.model_selection import train_test_split\n",
    "from sklearn.metrics import accuracy_score, classification_report\n",
    "\n",
    "%matplotlib inline"
   ]
  },
  {
   "cell_type": "code",
   "execution_count": 2,
   "id": "quarterly-alaska",
   "metadata": {},
   "outputs": [],
   "source": [
    "source_dir = os.path.join('brazilian_coffee_dataset','Images')"
   ]
  },
  {
   "cell_type": "code",
   "execution_count": 3,
   "id": "objective-deputy",
   "metadata": {},
   "outputs": [],
   "source": [
    "labels = os.listdir(source_dir)"
   ]
  },
  {
   "cell_type": "code",
   "execution_count": 4,
   "id": "proved-struggle",
   "metadata": {},
   "outputs": [],
   "source": [
    "pretrained_model = applications.InceptionV3(include_top=False, weights='imagenet')\n",
    "pretrained_model.trainable = False"
   ]
  },
  {
   "cell_type": "code",
   "execution_count": 5,
   "id": "moral-carpet",
   "metadata": {},
   "outputs": [
    {
     "name": "stdout",
     "output_type": "stream",
     "text": [
      "Found 2876 images belonging to 2 classes.\n"
     ]
    }
   ],
   "source": [
    "image_data_generator = ImageDataGenerator(rescale=1/255.0)\n",
    "image_generator = image_data_generator.flow_from_directory(source_dir,\n",
    "                                                        batch_size=64,\n",
    "                                                        shuffle=False\n",
    "                                                        )\n",
    "count = 0\n",
    "X_batches, Y_batches = [], []\n",
    "for X, Y in image_generator:\n",
    "    X_batches.append(X)\n",
    "    Y_batches.append(Y)\n",
    "    count += X.shape[0]\n",
    "    if count >= image_generator.n:\n",
    "        break\n",
    "\n",
    "x_data = np.concatenate(X_batches)\n",
    "y_data = np.concatenate(Y_batches)"
   ]
  },
  {
   "cell_type": "code",
   "execution_count": 6,
   "id": "mature-tender",
   "metadata": {},
   "outputs": [],
   "source": [
    "x_train, x_val, y_train, y_val = train_test_split(x_data, y_data, test_size = 0.4, random_state=101)\n",
    "x_test, x_val, y_test, y_val = train_test_split(x_val, y_val, test_size = 0.5, random_state=101)"
   ]
  },
  {
   "cell_type": "code",
   "execution_count": 7,
   "id": "saved-viewer",
   "metadata": {},
   "outputs": [],
   "source": [
    "inputs = pretrained_model.input\n",
    "pooling_layer = GlobalAveragePooling2D()(pretrained_model.output)\n",
    "drop_layer = Dropout(0.20)(pooling_layer)\n",
    "x_layer = Dense(256, activation='relu')(drop_layer)\n",
    "drop_layer1 = Dropout(0.5)(x_layer)\n",
    "outputs = Dense(len(labels), activation='softmax')(drop_layer1)\n",
    "\n",
    "model = Model(inputs=inputs, outputs=outputs)"
   ]
  },
  {
   "cell_type": "code",
   "execution_count": 8,
   "id": "inside-philip",
   "metadata": {},
   "outputs": [
    {
     "name": "stderr",
     "output_type": "stream",
     "text": [
      "/home/csci8523/ganta016/.local/lib/python3.8/site-packages/keras/optimizers/optimizer_v2/adam.py:117: UserWarning: The `lr` argument is deprecated, use `learning_rate` instead.\n",
      "  super().__init__(name, **kwargs)\n"
     ]
    },
    {
     "name": "stdout",
     "output_type": "stream",
     "text": [
      "Epoch 1/50\n",
      "27/27 - 47s - loss: 0.5721 - accuracy: 0.7322 - val_loss: 0.3837 - val_accuracy: 0.8333 - 47s/epoch - 2s/step\n",
      "Epoch 2/50\n",
      "27/27 - 40s - loss: 0.3641 - accuracy: 0.8348 - val_loss: 0.3631 - val_accuracy: 0.8385 - 40s/epoch - 1s/step\n",
      "Epoch 3/50\n",
      "27/27 - 42s - loss: 0.3259 - accuracy: 0.8591 - val_loss: 0.3636 - val_accuracy: 0.8455 - 42s/epoch - 2s/step\n",
      "Epoch 4/50\n",
      "27/27 - 36s - loss: 0.3205 - accuracy: 0.8609 - val_loss: 0.4667 - val_accuracy: 0.8125 - 36s/epoch - 1s/step\n",
      "Epoch 5/50\n",
      "27/27 - 36s - loss: 0.3137 - accuracy: 0.8580 - val_loss: 0.3584 - val_accuracy: 0.8385 - 36s/epoch - 1s/step\n",
      "Epoch 6/50\n",
      "27/27 - 37s - loss: 0.2738 - accuracy: 0.8846 - val_loss: 0.4051 - val_accuracy: 0.8316 - 37s/epoch - 1s/step\n",
      "Epoch 7/50\n",
      "27/27 - 37s - loss: 0.2689 - accuracy: 0.8887 - val_loss: 0.3551 - val_accuracy: 0.8559 - 37s/epoch - 1s/step\n",
      "Epoch 8/50\n",
      "27/27 - 34s - loss: 0.2516 - accuracy: 0.8928 - val_loss: 0.3514 - val_accuracy: 0.8524 - 34s/epoch - 1s/step\n",
      "Epoch 9/50\n",
      "27/27 - 33s - loss: 0.2264 - accuracy: 0.9101 - val_loss: 0.3777 - val_accuracy: 0.8524 - 33s/epoch - 1s/step\n",
      "Epoch 10/50\n",
      "27/27 - 33s - loss: 0.2158 - accuracy: 0.9107 - val_loss: 0.3841 - val_accuracy: 0.8438 - 33s/epoch - 1s/step\n",
      "Epoch 11/50\n",
      "27/27 - 34s - loss: 0.2164 - accuracy: 0.9084 - val_loss: 0.4871 - val_accuracy: 0.8090 - 34s/epoch - 1s/step\n",
      "Epoch 12/50\n",
      "27/27 - 34s - loss: 0.2183 - accuracy: 0.9130 - val_loss: 0.3773 - val_accuracy: 0.8524 - 34s/epoch - 1s/step\n",
      "Epoch 13/50\n",
      "27/27 - 37s - loss: 0.2005 - accuracy: 0.9159 - val_loss: 0.3905 - val_accuracy: 0.8507 - 37s/epoch - 1s/step\n",
      "Epoch 14/50\n",
      "27/27 - 34s - loss: 0.2018 - accuracy: 0.9154 - val_loss: 0.3837 - val_accuracy: 0.8420 - 34s/epoch - 1s/step\n",
      "Epoch 15/50\n",
      "27/27 - 36s - loss: 0.2081 - accuracy: 0.9101 - val_loss: 0.3818 - val_accuracy: 0.8420 - 36s/epoch - 1s/step\n",
      "Epoch 16/50\n",
      "27/27 - 36s - loss: 0.1763 - accuracy: 0.9281 - val_loss: 0.4008 - val_accuracy: 0.8542 - 36s/epoch - 1s/step\n",
      "Epoch 17/50\n",
      "27/27 - 33s - loss: 0.1794 - accuracy: 0.9287 - val_loss: 0.3875 - val_accuracy: 0.8403 - 33s/epoch - 1s/step\n",
      "Epoch 18/50\n",
      "27/27 - 35s - loss: 0.1621 - accuracy: 0.9368 - val_loss: 0.4200 - val_accuracy: 0.8490 - 35s/epoch - 1s/step\n",
      "Epoch 19/50\n",
      "27/27 - 36s - loss: 0.1692 - accuracy: 0.9252 - val_loss: 0.3834 - val_accuracy: 0.8455 - 36s/epoch - 1s/step\n",
      "Epoch 20/50\n",
      "27/27 - 35s - loss: 0.1797 - accuracy: 0.9183 - val_loss: 0.4286 - val_accuracy: 0.8420 - 35s/epoch - 1s/step\n",
      "Epoch 21/50\n",
      "27/27 - 35s - loss: 0.1353 - accuracy: 0.9490 - val_loss: 0.4061 - val_accuracy: 0.8403 - 35s/epoch - 1s/step\n",
      "Epoch 22/50\n",
      "27/27 - 34s - loss: 0.1384 - accuracy: 0.9443 - val_loss: 0.4217 - val_accuracy: 0.8507 - 34s/epoch - 1s/step\n",
      "Epoch 23/50\n",
      "27/27 - 35s - loss: 0.1413 - accuracy: 0.9409 - val_loss: 0.5326 - val_accuracy: 0.8333 - 35s/epoch - 1s/step\n",
      "Epoch 24/50\n",
      "27/27 - 34s - loss: 0.1450 - accuracy: 0.9339 - val_loss: 0.4291 - val_accuracy: 0.8542 - 34s/epoch - 1s/step\n",
      "Epoch 25/50\n",
      "27/27 - 34s - loss: 0.1192 - accuracy: 0.9606 - val_loss: 0.4410 - val_accuracy: 0.8524 - 34s/epoch - 1s/step\n",
      "Epoch 26/50\n",
      "27/27 - 32s - loss: 0.1229 - accuracy: 0.9536 - val_loss: 0.4391 - val_accuracy: 0.8438 - 32s/epoch - 1s/step\n",
      "Epoch 27/50\n",
      "27/27 - 38s - loss: 0.1187 - accuracy: 0.9565 - val_loss: 0.4338 - val_accuracy: 0.8542 - 38s/epoch - 1s/step\n",
      "Epoch 28/50\n",
      "27/27 - 36s - loss: 0.1128 - accuracy: 0.9519 - val_loss: 0.4447 - val_accuracy: 0.8611 - 36s/epoch - 1s/step\n",
      "Epoch 29/50\n",
      "27/27 - 36s - loss: 0.1079 - accuracy: 0.9612 - val_loss: 0.4213 - val_accuracy: 0.8507 - 36s/epoch - 1s/step\n",
      "Epoch 30/50\n",
      "27/27 - 36s - loss: 0.0999 - accuracy: 0.9612 - val_loss: 0.4615 - val_accuracy: 0.8576 - 36s/epoch - 1s/step\n",
      "Epoch 31/50\n",
      "27/27 - 34s - loss: 0.1102 - accuracy: 0.9583 - val_loss: 0.5264 - val_accuracy: 0.8368 - 34s/epoch - 1s/step\n",
      "Epoch 32/50\n",
      "27/27 - 36s - loss: 0.0946 - accuracy: 0.9658 - val_loss: 0.4696 - val_accuracy: 0.8576 - 36s/epoch - 1s/step\n",
      "Epoch 33/50\n",
      "27/27 - 33s - loss: 0.0849 - accuracy: 0.9722 - val_loss: 0.4817 - val_accuracy: 0.8490 - 33s/epoch - 1s/step\n",
      "Epoch 34/50\n",
      "27/27 - 37s - loss: 0.0872 - accuracy: 0.9652 - val_loss: 0.4804 - val_accuracy: 0.8576 - 37s/epoch - 1s/step\n",
      "Epoch 35/50\n",
      "27/27 - 36s - loss: 0.0913 - accuracy: 0.9675 - val_loss: 0.4866 - val_accuracy: 0.8559 - 36s/epoch - 1s/step\n",
      "Epoch 36/50\n",
      "27/27 - 36s - loss: 0.0796 - accuracy: 0.9739 - val_loss: 0.4784 - val_accuracy: 0.8576 - 36s/epoch - 1s/step\n",
      "Epoch 37/50\n",
      "27/27 - 36s - loss: 0.0845 - accuracy: 0.9641 - val_loss: 0.4617 - val_accuracy: 0.8576 - 36s/epoch - 1s/step\n",
      "Epoch 38/50\n",
      "27/27 - 36s - loss: 0.0718 - accuracy: 0.9722 - val_loss: 0.5010 - val_accuracy: 0.8576 - 36s/epoch - 1s/step\n",
      "Epoch 39/50\n",
      "27/27 - 36s - loss: 0.0726 - accuracy: 0.9745 - val_loss: 0.4926 - val_accuracy: 0.8611 - 36s/epoch - 1s/step\n",
      "Epoch 40/50\n",
      "27/27 - 37s - loss: 0.0808 - accuracy: 0.9710 - val_loss: 0.4558 - val_accuracy: 0.8628 - 37s/epoch - 1s/step\n",
      "Epoch 41/50\n",
      "27/27 - 36s - loss: 0.0743 - accuracy: 0.9751 - val_loss: 0.5133 - val_accuracy: 0.8542 - 36s/epoch - 1s/step\n",
      "Epoch 42/50\n",
      "27/27 - 20s - loss: 0.0773 - accuracy: 0.9710 - val_loss: 0.4792 - val_accuracy: 0.8559 - 20s/epoch - 746ms/step\n",
      "Epoch 43/50\n",
      "27/27 - 19s - loss: 0.0613 - accuracy: 0.9780 - val_loss: 0.5007 - val_accuracy: 0.8455 - 19s/epoch - 715ms/step\n",
      "Epoch 44/50\n",
      "27/27 - 18s - loss: 0.0698 - accuracy: 0.9757 - val_loss: 0.5995 - val_accuracy: 0.8472 - 18s/epoch - 677ms/step\n",
      "Epoch 45/50\n",
      "27/27 - 18s - loss: 0.0691 - accuracy: 0.9745 - val_loss: 0.5200 - val_accuracy: 0.8472 - 18s/epoch - 669ms/step\n",
      "Epoch 46/50\n",
      "27/27 - 19s - loss: 0.0593 - accuracy: 0.9786 - val_loss: 0.5757 - val_accuracy: 0.8542 - 19s/epoch - 685ms/step\n",
      "Epoch 47/50\n",
      "27/27 - 18s - loss: 0.0475 - accuracy: 0.9814 - val_loss: 0.5419 - val_accuracy: 0.8455 - 18s/epoch - 659ms/step\n",
      "Epoch 48/50\n",
      "27/27 - 18s - loss: 0.0535 - accuracy: 0.9814 - val_loss: 0.5378 - val_accuracy: 0.8507 - 18s/epoch - 666ms/step\n",
      "Epoch 49/50\n",
      "27/27 - 18s - loss: 0.0627 - accuracy: 0.9739 - val_loss: 0.5123 - val_accuracy: 0.8576 - 18s/epoch - 667ms/step\n",
      "Epoch 50/50\n",
      "27/27 - 18s - loss: 0.0485 - accuracy: 0.9855 - val_loss: 0.5741 - val_accuracy: 0.8507 - 18s/epoch - 681ms/step\n"
     ]
    }
   ],
   "source": [
    "adam = Adam(lr=0.001)\n",
    "model.compile(optimizer=adam, loss='categorical_crossentropy', metrics=['accuracy'])\n",
    "model_fit_history = model.fit(x_train, y_train, batch_size=64, epochs=50, verbose=2, validation_data=(x_val, y_val))"
   ]
  },
  {
   "cell_type": "code",
   "execution_count": 9,
   "id": "dominant-accordance",
   "metadata": {},
   "outputs": [],
   "source": [
    "model.save_weights(\"model_dense_pre.h5\")"
   ]
  },
  {
   "cell_type": "code",
   "execution_count": 10,
   "id": "perceived-elements",
   "metadata": {},
   "outputs": [
    {
     "name": "stdout",
     "output_type": "stream",
     "text": [
      "Epoch 1/100\n",
      "27/27 - 32s - loss: 0.5272 - accuracy: 0.8255 - val_loss: 2.9566 - val_accuracy: 0.7760 - 32s/epoch - 1s/step\n",
      "Epoch 2/100\n",
      "27/27 - 26s - loss: 0.2027 - accuracy: 0.9246 - val_loss: 1.3183 - val_accuracy: 0.8038 - 26s/epoch - 949ms/step\n",
      "Epoch 3/100\n",
      "27/27 - 26s - loss: 0.0638 - accuracy: 0.9803 - val_loss: 1.5587 - val_accuracy: 0.8576 - 26s/epoch - 962ms/step\n",
      "Epoch 4/100\n",
      "27/27 - 26s - loss: 0.0279 - accuracy: 0.9919 - val_loss: 2.6354 - val_accuracy: 0.8194 - 26s/epoch - 972ms/step\n",
      "Epoch 5/100\n",
      "27/27 - 26s - loss: 0.0528 - accuracy: 0.9797 - val_loss: 1.6081 - val_accuracy: 0.8524 - 26s/epoch - 957ms/step\n",
      "Epoch 6/100\n",
      "27/27 - 26s - loss: 0.0348 - accuracy: 0.9878 - val_loss: 1.2057 - val_accuracy: 0.8472 - 26s/epoch - 956ms/step\n",
      "Epoch 7/100\n",
      "27/27 - 25s - loss: 0.0261 - accuracy: 0.9901 - val_loss: 1.4081 - val_accuracy: 0.8403 - 25s/epoch - 936ms/step\n",
      "Epoch 8/100\n",
      "27/27 - 26s - loss: 0.0170 - accuracy: 0.9954 - val_loss: 1.3612 - val_accuracy: 0.8663 - 26s/epoch - 978ms/step\n",
      "Epoch 9/100\n",
      "27/27 - 25s - loss: 0.0203 - accuracy: 0.9896 - val_loss: 1.5948 - val_accuracy: 0.8611 - 25s/epoch - 934ms/step\n",
      "Epoch 10/100\n",
      "27/27 - 25s - loss: 0.0414 - accuracy: 0.9872 - val_loss: 1.8271 - val_accuracy: 0.8628 - 25s/epoch - 925ms/step\n",
      "Epoch 11/100\n",
      "27/27 - 26s - loss: 0.0294 - accuracy: 0.9878 - val_loss: 2.5715 - val_accuracy: 0.8142 - 26s/epoch - 952ms/step\n",
      "Epoch 12/100\n",
      "27/27 - 25s - loss: 0.0249 - accuracy: 0.9919 - val_loss: 2.1228 - val_accuracy: 0.8351 - 25s/epoch - 914ms/step\n",
      "Epoch 13/100\n",
      "27/27 - 26s - loss: 0.0122 - accuracy: 0.9977 - val_loss: 1.9684 - val_accuracy: 0.8576 - 26s/epoch - 954ms/step\n",
      "Epoch 14/100\n",
      "27/27 - 24s - loss: 0.0088 - accuracy: 0.9983 - val_loss: 1.6038 - val_accuracy: 0.8681 - 24s/epoch - 899ms/step\n",
      "Epoch 15/100\n",
      "27/27 - 25s - loss: 0.0090 - accuracy: 0.9971 - val_loss: 1.9588 - val_accuracy: 0.8351 - 25s/epoch - 911ms/step\n",
      "Epoch 16/100\n",
      "27/27 - 24s - loss: 0.0106 - accuracy: 0.9954 - val_loss: 1.9820 - val_accuracy: 0.8715 - 24s/epoch - 880ms/step\n",
      "Epoch 17/100\n",
      "27/27 - 24s - loss: 0.0035 - accuracy: 0.9988 - val_loss: 1.7093 - val_accuracy: 0.8750 - 24s/epoch - 880ms/step\n",
      "Epoch 18/100\n",
      "27/27 - 24s - loss: 0.0040 - accuracy: 0.9971 - val_loss: 1.4067 - val_accuracy: 0.8750 - 24s/epoch - 871ms/step\n",
      "Epoch 19/100\n",
      "27/27 - 24s - loss: 0.0079 - accuracy: 0.9971 - val_loss: 1.5600 - val_accuracy: 0.8559 - 24s/epoch - 901ms/step\n",
      "Epoch 20/100\n",
      "27/27 - 24s - loss: 0.0033 - accuracy: 0.9988 - val_loss: 1.4094 - val_accuracy: 0.8750 - 24s/epoch - 883ms/step\n",
      "Epoch 21/100\n",
      "27/27 - 24s - loss: 0.0248 - accuracy: 0.9925 - val_loss: 1.8643 - val_accuracy: 0.8524 - 24s/epoch - 878ms/step\n",
      "Epoch 22/100\n",
      "27/27 - 27s - loss: 0.0283 - accuracy: 0.9919 - val_loss: 1.0893 - val_accuracy: 0.8698 - 27s/epoch - 983ms/step\n",
      "Epoch 23/100\n",
      "27/27 - 24s - loss: 0.0077 - accuracy: 0.9971 - val_loss: 1.4285 - val_accuracy: 0.8559 - 24s/epoch - 900ms/step\n",
      "Epoch 24/100\n",
      "27/27 - 24s - loss: 0.0018 - accuracy: 1.0000 - val_loss: 1.4486 - val_accuracy: 0.8715 - 24s/epoch - 886ms/step\n",
      "Epoch 25/100\n",
      "27/27 - 24s - loss: 0.0062 - accuracy: 0.9971 - val_loss: 1.4937 - val_accuracy: 0.8698 - 24s/epoch - 878ms/step\n",
      "Epoch 26/100\n",
      "27/27 - 24s - loss: 0.0024 - accuracy: 0.9994 - val_loss: 1.4163 - val_accuracy: 0.8767 - 24s/epoch - 878ms/step\n",
      "Epoch 27/100\n",
      "27/27 - 24s - loss: 0.0064 - accuracy: 0.9983 - val_loss: 1.5382 - val_accuracy: 0.8576 - 24s/epoch - 877ms/step\n",
      "Epoch 28/100\n",
      "27/27 - 24s - loss: 0.0222 - accuracy: 0.9936 - val_loss: 2.9113 - val_accuracy: 0.8542 - 24s/epoch - 897ms/step\n",
      "Epoch 29/100\n",
      "27/27 - 24s - loss: 0.0391 - accuracy: 0.9878 - val_loss: 1.7603 - val_accuracy: 0.8646 - 24s/epoch - 880ms/step\n",
      "Epoch 30/100\n",
      "27/27 - 24s - loss: 0.0179 - accuracy: 0.9936 - val_loss: 1.4467 - val_accuracy: 0.8802 - 24s/epoch - 887ms/step\n",
      "Epoch 31/100\n",
      "27/27 - 24s - loss: 0.0102 - accuracy: 0.9959 - val_loss: 1.9829 - val_accuracy: 0.8750 - 24s/epoch - 896ms/step\n",
      "Epoch 32/100\n",
      "27/27 - 24s - loss: 0.0122 - accuracy: 0.9965 - val_loss: 2.2377 - val_accuracy: 0.8663 - 24s/epoch - 882ms/step\n",
      "Epoch 33/100\n",
      "27/27 - 24s - loss: 0.0070 - accuracy: 0.9977 - val_loss: 2.1571 - val_accuracy: 0.8837 - 24s/epoch - 872ms/step\n",
      "Epoch 34/100\n",
      "27/27 - 24s - loss: 0.0383 - accuracy: 0.9896 - val_loss: 1.3826 - val_accuracy: 0.8663 - 24s/epoch - 888ms/step\n",
      "Epoch 35/100\n",
      "27/27 - 24s - loss: 0.0300 - accuracy: 0.9954 - val_loss: 0.9470 - val_accuracy: 0.8733 - 24s/epoch - 874ms/step\n",
      "Epoch 36/100\n",
      "27/27 - 24s - loss: 0.0064 - accuracy: 0.9977 - val_loss: 1.4369 - val_accuracy: 0.8559 - 24s/epoch - 875ms/step\n",
      "Epoch 37/100\n",
      "27/27 - 23s - loss: 0.0048 - accuracy: 0.9977 - val_loss: 1.3129 - val_accuracy: 0.8681 - 23s/epoch - 870ms/step\n",
      "Epoch 38/100\n",
      "27/27 - 23s - loss: 0.0056 - accuracy: 0.9988 - val_loss: 1.3527 - val_accuracy: 0.8698 - 23s/epoch - 867ms/step\n",
      "Epoch 39/100\n",
      "27/27 - 23s - loss: 0.0023 - accuracy: 0.9994 - val_loss: 1.4377 - val_accuracy: 0.8715 - 23s/epoch - 862ms/step\n",
      "Epoch 40/100\n",
      "27/27 - 24s - loss: 0.0058 - accuracy: 0.9983 - val_loss: 1.3031 - val_accuracy: 0.8663 - 24s/epoch - 894ms/step\n",
      "Epoch 41/100\n",
      "27/27 - 23s - loss: 0.0064 - accuracy: 0.9965 - val_loss: 1.9956 - val_accuracy: 0.8385 - 23s/epoch - 858ms/step\n",
      "Epoch 42/100\n",
      "27/27 - 23s - loss: 0.0074 - accuracy: 0.9977 - val_loss: 1.4027 - val_accuracy: 0.8733 - 23s/epoch - 861ms/step\n",
      "Epoch 43/100\n",
      "27/27 - 24s - loss: 0.0046 - accuracy: 0.9994 - val_loss: 1.3075 - val_accuracy: 0.8698 - 24s/epoch - 884ms/step\n",
      "Epoch 44/100\n",
      "27/27 - 24s - loss: 0.0144 - accuracy: 0.9954 - val_loss: 1.6571 - val_accuracy: 0.8750 - 24s/epoch - 875ms/step\n",
      "Epoch 45/100\n",
      "27/27 - 24s - loss: 0.0049 - accuracy: 0.9983 - val_loss: 1.5837 - val_accuracy: 0.8698 - 24s/epoch - 884ms/step\n",
      "Epoch 46/100\n",
      "27/27 - 24s - loss: 3.6992e-04 - accuracy: 1.0000 - val_loss: 1.5634 - val_accuracy: 0.8681 - 24s/epoch - 881ms/step\n",
      "Epoch 47/100\n",
      "27/27 - 24s - loss: 4.0619e-04 - accuracy: 1.0000 - val_loss: 1.5496 - val_accuracy: 0.8698 - 24s/epoch - 878ms/step\n",
      "Epoch 48/100\n",
      "27/27 - 24s - loss: 0.0013 - accuracy: 0.9994 - val_loss: 1.6216 - val_accuracy: 0.8715 - 24s/epoch - 879ms/step\n",
      "Epoch 49/100\n",
      "27/27 - 24s - loss: 0.0024 - accuracy: 0.9994 - val_loss: 1.7821 - val_accuracy: 0.8733 - 24s/epoch - 896ms/step\n",
      "Epoch 50/100\n",
      "27/27 - 24s - loss: 5.3221e-04 - accuracy: 1.0000 - val_loss: 1.5281 - val_accuracy: 0.8785 - 24s/epoch - 885ms/step\n",
      "Epoch 51/100\n",
      "27/27 - 24s - loss: 0.0017 - accuracy: 0.9994 - val_loss: 1.3982 - val_accuracy: 0.8819 - 24s/epoch - 887ms/step\n",
      "Epoch 52/100\n",
      "27/27 - 24s - loss: 0.0025 - accuracy: 0.9994 - val_loss: 1.3942 - val_accuracy: 0.8733 - 24s/epoch - 875ms/step\n",
      "Epoch 53/100\n",
      "27/27 - 24s - loss: 0.0012 - accuracy: 0.9994 - val_loss: 1.2271 - val_accuracy: 0.8750 - 24s/epoch - 887ms/step\n",
      "Epoch 54/100\n",
      "27/27 - 24s - loss: 6.2457e-05 - accuracy: 1.0000 - val_loss: 1.2058 - val_accuracy: 0.8802 - 24s/epoch - 879ms/step\n",
      "Epoch 55/100\n",
      "27/27 - 24s - loss: 0.0049 - accuracy: 0.9988 - val_loss: 1.6009 - val_accuracy: 0.8733 - 24s/epoch - 886ms/step\n",
      "Epoch 56/100\n",
      "27/27 - 24s - loss: 0.0134 - accuracy: 0.9977 - val_loss: 2.3864 - val_accuracy: 0.8698 - 24s/epoch - 894ms/step\n",
      "Epoch 57/100\n",
      "27/27 - 24s - loss: 0.0208 - accuracy: 0.9919 - val_loss: 3.0661 - val_accuracy: 0.8507 - 24s/epoch - 881ms/step\n",
      "Epoch 58/100\n",
      "27/27 - 24s - loss: 0.0340 - accuracy: 0.9890 - val_loss: 1.5176 - val_accuracy: 0.8524 - 24s/epoch - 887ms/step\n",
      "Epoch 59/100\n",
      "27/27 - 24s - loss: 0.0098 - accuracy: 0.9954 - val_loss: 1.8043 - val_accuracy: 0.8715 - 24s/epoch - 876ms/step\n",
      "Epoch 60/100\n",
      "27/27 - 24s - loss: 0.0035 - accuracy: 0.9994 - val_loss: 1.6221 - val_accuracy: 0.8715 - 24s/epoch - 900ms/step\n",
      "Epoch 61/100\n",
      "27/27 - 24s - loss: 6.0814e-04 - accuracy: 1.0000 - val_loss: 1.6172 - val_accuracy: 0.8733 - 24s/epoch - 905ms/step\n",
      "Epoch 62/100\n",
      "27/27 - 24s - loss: 5.7797e-04 - accuracy: 1.0000 - val_loss: 1.6738 - val_accuracy: 0.8767 - 24s/epoch - 875ms/step\n",
      "Epoch 63/100\n",
      "27/27 - 24s - loss: 3.0334e-04 - accuracy: 1.0000 - val_loss: 1.7043 - val_accuracy: 0.8767 - 24s/epoch - 880ms/step\n",
      "Epoch 64/100\n",
      "27/27 - 24s - loss: 3.5056e-04 - accuracy: 1.0000 - val_loss: 1.7401 - val_accuracy: 0.8733 - 24s/epoch - 873ms/step\n",
      "Epoch 65/100\n",
      "27/27 - 24s - loss: 4.5596e-05 - accuracy: 1.0000 - val_loss: 1.7316 - val_accuracy: 0.8715 - 24s/epoch - 890ms/step\n",
      "Epoch 66/100\n",
      "27/27 - 24s - loss: 1.0620e-04 - accuracy: 1.0000 - val_loss: 1.6605 - val_accuracy: 0.8750 - 24s/epoch - 883ms/step\n",
      "Epoch 67/100\n",
      "27/27 - 24s - loss: 6.7495e-05 - accuracy: 1.0000 - val_loss: 1.6639 - val_accuracy: 0.8767 - 24s/epoch - 903ms/step\n",
      "Epoch 68/100\n",
      "27/27 - 24s - loss: 7.2688e-05 - accuracy: 1.0000 - val_loss: 1.6655 - val_accuracy: 0.8767 - 24s/epoch - 872ms/step\n",
      "Epoch 69/100\n",
      "27/27 - 24s - loss: 2.8690e-05 - accuracy: 1.0000 - val_loss: 1.6584 - val_accuracy: 0.8802 - 24s/epoch - 887ms/step\n",
      "Epoch 70/100\n",
      "27/27 - 24s - loss: 1.9056e-05 - accuracy: 1.0000 - val_loss: 1.6695 - val_accuracy: 0.8802 - 24s/epoch - 876ms/step\n",
      "Epoch 71/100\n",
      "27/27 - 24s - loss: 4.6664e-04 - accuracy: 0.9994 - val_loss: 1.7046 - val_accuracy: 0.8802 - 24s/epoch - 883ms/step\n",
      "Epoch 72/100\n",
      "27/27 - 24s - loss: 1.5777e-05 - accuracy: 1.0000 - val_loss: 1.7065 - val_accuracy: 0.8785 - 24s/epoch - 876ms/step\n",
      "Epoch 73/100\n",
      "27/27 - 24s - loss: 9.5768e-05 - accuracy: 1.0000 - val_loss: 1.6772 - val_accuracy: 0.8750 - 24s/epoch - 894ms/step\n",
      "Epoch 74/100\n",
      "27/27 - 24s - loss: 1.4705e-04 - accuracy: 1.0000 - val_loss: 1.7961 - val_accuracy: 0.8767 - 24s/epoch - 885ms/step\n",
      "Epoch 75/100\n",
      "27/27 - 24s - loss: 2.6458e-05 - accuracy: 1.0000 - val_loss: 1.7894 - val_accuracy: 0.8785 - 24s/epoch - 878ms/step\n",
      "Epoch 76/100\n",
      "27/27 - 24s - loss: 5.1743e-05 - accuracy: 1.0000 - val_loss: 1.7749 - val_accuracy: 0.8767 - 24s/epoch - 890ms/step\n",
      "Epoch 77/100\n",
      "27/27 - 24s - loss: 1.4070e-05 - accuracy: 1.0000 - val_loss: 1.7668 - val_accuracy: 0.8750 - 24s/epoch - 878ms/step\n",
      "Epoch 78/100\n",
      "27/27 - 24s - loss: 6.6284e-05 - accuracy: 1.0000 - val_loss: 1.7700 - val_accuracy: 0.8767 - 24s/epoch - 892ms/step\n",
      "Epoch 79/100\n",
      "27/27 - 25s - loss: 9.3179e-06 - accuracy: 1.0000 - val_loss: 1.7737 - val_accuracy: 0.8733 - 25s/epoch - 928ms/step\n",
      "Epoch 80/100\n",
      "27/27 - 24s - loss: 4.2618e-06 - accuracy: 1.0000 - val_loss: 1.7899 - val_accuracy: 0.8733 - 24s/epoch - 902ms/step\n",
      "Epoch 81/100\n",
      "27/27 - 24s - loss: 2.6796e-05 - accuracy: 1.0000 - val_loss: 1.8013 - val_accuracy: 0.8767 - 24s/epoch - 892ms/step\n",
      "Epoch 82/100\n",
      "27/27 - 24s - loss: 8.3687e-06 - accuracy: 1.0000 - val_loss: 1.8251 - val_accuracy: 0.8750 - 24s/epoch - 881ms/step\n",
      "Epoch 83/100\n",
      "27/27 - 24s - loss: 7.6935e-05 - accuracy: 1.0000 - val_loss: 1.8471 - val_accuracy: 0.8767 - 24s/epoch - 895ms/step\n",
      "Epoch 84/100\n",
      "27/27 - 24s - loss: 1.4536e-05 - accuracy: 1.0000 - val_loss: 1.8611 - val_accuracy: 0.8767 - 24s/epoch - 884ms/step\n",
      "Epoch 85/100\n",
      "27/27 - 24s - loss: 1.3619e-05 - accuracy: 1.0000 - val_loss: 1.8671 - val_accuracy: 0.8767 - 24s/epoch - 881ms/step\n",
      "Epoch 86/100\n",
      "27/27 - 24s - loss: 1.0222e-05 - accuracy: 1.0000 - val_loss: 1.8726 - val_accuracy: 0.8767 - 24s/epoch - 906ms/step\n",
      "Epoch 87/100\n",
      "27/27 - 24s - loss: 7.6969e-06 - accuracy: 1.0000 - val_loss: 1.8907 - val_accuracy: 0.8767 - 24s/epoch - 891ms/step\n",
      "Epoch 88/100\n",
      "27/27 - 24s - loss: 9.3200e-07 - accuracy: 1.0000 - val_loss: 1.8948 - val_accuracy: 0.8767 - 24s/epoch - 882ms/step\n",
      "Epoch 89/100\n",
      "27/27 - 24s - loss: 2.9948e-06 - accuracy: 1.0000 - val_loss: 1.9018 - val_accuracy: 0.8785 - 24s/epoch - 896ms/step\n",
      "Epoch 90/100\n",
      "27/27 - 25s - loss: 1.1613e-06 - accuracy: 1.0000 - val_loss: 1.9047 - val_accuracy: 0.8785 - 25s/epoch - 931ms/step\n",
      "Epoch 91/100\n",
      "27/27 - 33s - loss: 2.3442e-05 - accuracy: 1.0000 - val_loss: 1.9089 - val_accuracy: 0.8767 - 33s/epoch - 1s/step\n",
      "Epoch 92/100\n",
      "27/27 - 32s - loss: 2.8432e-06 - accuracy: 1.0000 - val_loss: 1.9114 - val_accuracy: 0.8750 - 32s/epoch - 1s/step\n",
      "Epoch 93/100\n",
      "27/27 - 38s - loss: 1.4785e-05 - accuracy: 1.0000 - val_loss: 1.9063 - val_accuracy: 0.8767 - 38s/epoch - 1s/step\n",
      "Epoch 94/100\n",
      "27/27 - 46s - loss: 2.4519e-04 - accuracy: 1.0000 - val_loss: 2.1265 - val_accuracy: 0.8646 - 46s/epoch - 2s/step\n",
      "Epoch 95/100\n",
      "27/27 - 47s - loss: 4.0859e-05 - accuracy: 1.0000 - val_loss: 2.1155 - val_accuracy: 0.8733 - 47s/epoch - 2s/step\n",
      "Epoch 96/100\n",
      "27/27 - 47s - loss: 1.2562e-05 - accuracy: 1.0000 - val_loss: 2.0894 - val_accuracy: 0.8750 - 47s/epoch - 2s/step\n",
      "Epoch 97/100\n",
      "27/27 - 44s - loss: 8.3296e-05 - accuracy: 1.0000 - val_loss: 2.0135 - val_accuracy: 0.8733 - 44s/epoch - 2s/step\n",
      "Epoch 98/100\n",
      "27/27 - 40s - loss: 1.4988e-05 - accuracy: 1.0000 - val_loss: 1.9859 - val_accuracy: 0.8733 - 40s/epoch - 1s/step\n",
      "Epoch 99/100\n",
      "27/27 - 44s - loss: 3.3468e-06 - accuracy: 1.0000 - val_loss: 1.9786 - val_accuracy: 0.8733 - 44s/epoch - 2s/step\n",
      "Epoch 100/100\n",
      "27/27 - 41s - loss: 8.3939e-06 - accuracy: 1.0000 - val_loss: 1.9784 - val_accuracy: 0.8733 - 41s/epoch - 2s/step\n"
     ]
    }
   ],
   "source": [
    "for layer in pretrained_model.layers[:249]:\n",
    "   layer.trainable = False\n",
    "for layer in pretrained_model.layers[249:]:\n",
    "   layer.trainable = True\n",
    "\n",
    "inputs = pretrained_model.input\n",
    "pooling_layer = GlobalAveragePooling2D()(pretrained_model.output)\n",
    "drop_layer = Dropout(0.20)(pooling_layer)\n",
    "x_layer = Dense(256, activation='relu')(drop_layer)\n",
    "drop_layer1 = Dropout(0.5)(x_layer)\n",
    "outputs = Dense(len(labels), activation='softmax')(drop_layer1)\n",
    "\n",
    "model = Model(inputs=inputs, outputs=outputs)\n",
    "model.load_weights(\"model_dense_pre.h5\")\n",
    "adam = Adam()\n",
    "model.compile(optimizer=adam, loss='categorical_crossentropy', metrics=['accuracy'])\n",
    "history = model.fit(x_train, y_train, batch_size=64, epochs=100, verbose=2, validation_data=(x_val, y_val))"
   ]
  },
  {
   "cell_type": "code",
   "execution_count": 11,
   "id": "recent-natural",
   "metadata": {},
   "outputs": [],
   "source": [
    "model.save_weights(\"coffee_final_2.h5\")"
   ]
  },
  {
   "cell_type": "code",
   "execution_count": 12,
   "id": "forced-stevens",
   "metadata": {},
   "outputs": [
    {
     "data": {
      "image/png": "[encoded data removed]",
      "text/plain": [
       "<Figure size 432x288 with 1 Axes>"
      ]
     },
     "metadata": {
      "needs_background": "light"
     },
     "output_type": "display_data"
    },
    {
     "data": {
      "text/plain": [
       "<Figure size 432x288 with 0 Axes>"
      ]
     },
     "metadata": {},
     "output_type": "display_data"
    }
   ],
   "source": [
    "accuracy = history.history['accuracy']\n",
    "val_accuracy = history.history['val_accuracy']\n",
    "loss = history.history['loss']\n",
    "val_loss = history.history['val_loss']\n",
    "\n",
    "epochs = range(len(accuracy))\n",
    "\n",
    "plt.plot(epochs, accuracy, 'r', label='Training accuracy')\n",
    "plt.plot(epochs, val_accuracy, 'b', label='Validation accuracy')\n",
    "plt.title('Training and validation accuracy')\n",
    "plt.legend(loc=0)\n",
    "plt.figure()\n",
    "plt.show()"
   ]
  },
  {
   "cell_type": "code",
   "execution_count": 13,
   "id": "forbidden-wallpaper",
   "metadata": {},
   "outputs": [
    {
     "data": {
      "image/png": "[encoded data removed]",
      "text/plain": [
       "<Figure size 432x288 with 1 Axes>"
      ]
     },
     "metadata": {
      "needs_background": "light"
     },
     "output_type": "display_data"
    },
    {
     "data": {
      "text/plain": [
       "<Figure size 432x288 with 0 Axes>"
      ]
     },
     "metadata": {},
     "output_type": "display_data"
    }
   ],
   "source": [
    "plt.plot(epochs, loss, 'r', label='Training loss')\n",
    "plt.plot(epochs, val_loss, 'b', label='Validation loss')\n",
    "plt.title('Training and validation loss')\n",
    "plt.legend(loc=0)\n",
    "plt.figure()\n",
    "plt.show()"
   ]
  },
  {
   "cell_type": "code",
   "execution_count": 14,
   "id": "automatic-depression",
   "metadata": {},
   "outputs": [
    {
     "name": "stdout",
     "output_type": "stream",
     "text": [
      "18/18 [==============================] - 8s 373ms/step\n"
     ]
    }
   ],
   "source": [
    "y_pred = np.argmax(model.predict(x_test), axis=-1)"
   ]
  },
  {
   "cell_type": "code",
   "execution_count": 15,
   "id": "requested-poverty",
   "metadata": {},
   "outputs": [
    {
     "name": "stdout",
     "output_type": "stream",
     "text": [
      "Model predication accuracy: 0.885\n",
      "\n",
      "Classification report:\n",
      "               precision    recall  f1-score   support\n",
      "\n",
      "           0       0.92      0.85      0.88       297\n",
      "           1       0.85      0.92      0.89       278\n",
      "\n",
      "    accuracy                           0.89       575\n",
      "   macro avg       0.89      0.89      0.89       575\n",
      "weighted avg       0.89      0.89      0.89       575\n",
      "\n"
     ]
    }
   ],
   "source": [
    "y_test = np.nonzero(y_test)[1]\n",
    "accuracy = accuracy_score(y_test, y_pred)\n",
    "print(f'Model predication accuracy: {accuracy:.3f}')\n",
    "print(f'\\nClassification report:\\n {classification_report(y_test, y_pred)}')"
   ]
  },
  {
   "cell_type": "code",
   "execution_count": null,
   "id": "small-flooring",
   "metadata": {},
   "outputs": [],
   "source": []
  }
 ],
 "metadata": {
  "kernelspec": {
   "display_name": "Python3.8.3",
   "language": "python",
   "name": "python3.8.3"
  },
  "language_info": {
   "codemirror_mode": {
    "name": "ipython",
    "version": 3
   },
   "file_extension": ".py",
   "mimetype": "text/x-python",
   "name": "python",
   "nbconvert_exporter": "python",
   "pygments_lexer": "ipython3",
   "version": "3.8.3"
  }
 },
 "nbformat": 4,
 "nbformat_minor": 5
}
