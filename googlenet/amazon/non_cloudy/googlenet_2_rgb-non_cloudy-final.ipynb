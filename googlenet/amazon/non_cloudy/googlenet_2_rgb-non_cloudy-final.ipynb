{
 "cells": [
  {
   "cell_type": "code",
   "execution_count": 2,
   "id": "clinical-surprise",
   "metadata": {},
   "outputs": [],
   "source": [
    "import matplotlib\n",
    "import matplotlib.pyplot as plt\n",
    "\n",
    "import numpy as np\n",
    "import os\n",
    "\n",
    "from skimage.io import imread, imsave\n",
    "\n",
    "from keras import applications\n",
    "from keras import optimizers\n",
    "from keras.models import Sequential, Model\n",
    "from keras.layers import Activation, Dense, Dropout, Flatten, GlobalAveragePooling2D\n",
    "from keras.utils import to_categorical\n",
    "from keras.preprocessing.image import ImageDataGenerator\n",
    "from keras.optimizers import Adam\n",
    "\n",
    "from sklearn.metrics import fbeta_score, precision_score\n",
    "from sklearn.model_selection import train_test_split\n",
    "import pandas as pd\n",
    "import cv2\n",
    "\n",
    "%matplotlib inline"
   ]
  },
  {
   "cell_type": "code",
   "execution_count": 3,
   "id": "promotional-companion",
   "metadata": {},
   "outputs": [],
   "source": [
    "source_dir = os.path.join('train-jpg', 'train-jpg')"
   ]
  },
  {
   "cell_type": "code",
   "execution_count": 4,
   "id": "unexpected-surfing",
   "metadata": {},
   "outputs": [
    {
     "name": "stdout",
     "output_type": "stream",
     "text": [
      "(31129, 139, 139, 3)\n",
      "(31129, 16)\n"
     ]
    }
   ],
   "source": [
    "x_train = []\n",
    "y_train = []\n",
    "\n",
    "train_data = pd.read_csv('train_v2.csv/train_v2.csv')\n",
    "\n",
    "label_enum = 0\n",
    "label_map = {}\n",
    "labels = {}\n",
    "for tags in train_data['tags']:\n",
    "    classes = tags.split(\" \")\n",
    "    for label in classes:\n",
    "        if label not in label_map and label != \"cloudy\" and label != \"partly_cloudy\":\n",
    "            label_map[label] = label_enum\n",
    "            labels[label_enum] = label\n",
    "            label_enum = label_enum + 1\n",
    "    if label_enum == 17:\n",
    "        break\n",
    "\n",
    "for image, tags in train_data.values:\n",
    "    image_path = source_dir+\"/\"+image+\".jpg\"\n",
    "    img = cv2.imread(image_path)\n",
    "    img = cv2.resize(img, (139, 139))\n",
    "    one_hot_labels = np.zeros(len(label_map))\n",
    "    cloudy = False\n",
    "    for label in tags.split(' '):\n",
    "        if label == \"cloudy\" or label == \"partly_cloudy\":\n",
    "            cloudy = True\n",
    "        else:\n",
    "            one_hot_labels[label_map[label]] = 1\n",
    "    if not cloudy:\n",
    "        x_train.append(img/255.0)\n",
    "        y_train.append(one_hot_labels)\n",
    "    \n",
    "y_train = np.array(y_train, np.uint8)\n",
    "x_train = np.array(x_train, np.float32)\n",
    "\n",
    "print(x_train.shape)\n",
    "print(y_train.shape)"
   ]
  },
  {
   "cell_type": "code",
   "execution_count": 5,
   "id": "injured-kernel",
   "metadata": {},
   "outputs": [],
   "source": [
    "x_train, x_val, y_train, y_val = train_test_split(x_train, y_train, test_size =0.2)\n",
    "x_test, x_val, y_test, y_val = train_test_split(x_val, y_val, test_size =0.5)"
   ]
  },
  {
   "cell_type": "code",
   "execution_count": 6,
   "id": "novel-amino",
   "metadata": {},
   "outputs": [],
   "source": [
    "pretrained_model = applications.InceptionV3(include_top=False, weights='imagenet', input_shape = (139, 139, 3))\n",
    "pretrained_model.trainable = False"
   ]
  },
  {
   "cell_type": "code",
   "execution_count": 7,
   "id": "statutory-encounter",
   "metadata": {},
   "outputs": [],
   "source": [
    "input_layer = pretrained_model.input\n",
    "model_output = pretrained_model.output\n",
    "pooling_layer = GlobalAveragePooling2D()(model_output)\n",
    "dense_layer = Dense(2048, activation='relu')(pooling_layer)\n",
    "dropout_layer = Dropout(0.5)(dense_layer)\n",
    "output_layer = Dense(17, activation='sigmoid')(dropout_layer)\n",
    "model = Model(inputs=input_layer, outputs=output_layer)"
   ]
  },
  {
   "cell_type": "code",
   "execution_count": 8,
   "id": "suitable-legislation",
   "metadata": {},
   "outputs": [
    {
     "name": "stdout",
     "output_type": "stream",
     "text": [
      "Epoch 1/20\n",
      "195/195 - 69s - loss: 0.1454 - accuracy: 0.0673 - val_loss: 0.1174 - val_accuracy: 0.0238 - 69s/epoch - 356ms/step\n",
      "Epoch 2/20\n",
      "195/195 - 64s - loss: 0.1150 - accuracy: 0.0545 - val_loss: 0.1121 - val_accuracy: 0.0797 - 64s/epoch - 330ms/step\n",
      "Epoch 3/20\n",
      "195/195 - 64s - loss: 0.1085 - accuracy: 0.0573 - val_loss: 0.1114 - val_accuracy: 0.0305 - 64s/epoch - 329ms/step\n",
      "Epoch 4/20\n",
      "195/195 - 64s - loss: 0.1036 - accuracy: 0.0620 - val_loss: 0.1102 - val_accuracy: 0.0395 - 64s/epoch - 330ms/step\n",
      "Epoch 5/20\n",
      "195/195 - 64s - loss: 0.0998 - accuracy: 0.0744 - val_loss: 0.1108 - val_accuracy: 0.1137 - 64s/epoch - 330ms/step\n",
      "Epoch 6/20\n",
      "195/195 - 64s - loss: 0.0953 - accuracy: 0.0899 - val_loss: 0.1102 - val_accuracy: 0.1079 - 64s/epoch - 329ms/step\n",
      "Epoch 7/20\n",
      "195/195 - 64s - loss: 0.0909 - accuracy: 0.1111 - val_loss: 0.1122 - val_accuracy: 0.0752 - 64s/epoch - 329ms/step\n",
      "Epoch 8/20\n",
      "195/195 - 64s - loss: 0.0866 - accuracy: 0.1198 - val_loss: 0.1134 - val_accuracy: 0.1340 - 64s/epoch - 330ms/step\n",
      "Epoch 9/20\n",
      "195/195 - 64s - loss: 0.0826 - accuracy: 0.1372 - val_loss: 0.1122 - val_accuracy: 0.1491 - 64s/epoch - 329ms/step\n",
      "Epoch 10/20\n",
      "195/195 - 64s - loss: 0.0778 - accuracy: 0.1578 - val_loss: 0.1147 - val_accuracy: 0.1420 - 64s/epoch - 328ms/step\n",
      "Epoch 11/20\n",
      "195/195 - 63s - loss: 0.0733 - accuracy: 0.1608 - val_loss: 0.1193 - val_accuracy: 0.1545 - 63s/epoch - 322ms/step\n",
      "Epoch 12/20\n",
      "195/195 - 65s - loss: 0.0684 - accuracy: 0.1640 - val_loss: 0.1184 - val_accuracy: 0.1918 - 65s/epoch - 331ms/step\n",
      "Epoch 13/20\n",
      "195/195 - 64s - loss: 0.0640 - accuracy: 0.1773 - val_loss: 0.1198 - val_accuracy: 0.2136 - 64s/epoch - 330ms/step\n",
      "Epoch 14/20\n",
      "195/195 - 64s - loss: 0.0591 - accuracy: 0.1818 - val_loss: 0.1262 - val_accuracy: 0.1285 - 64s/epoch - 330ms/step\n",
      "Epoch 15/20\n",
      "195/195 - 64s - loss: 0.0553 - accuracy: 0.1848 - val_loss: 0.1259 - val_accuracy: 0.1491 - 64s/epoch - 330ms/step\n",
      "Epoch 16/20\n",
      "195/195 - 64s - loss: 0.0510 - accuracy: 0.1861 - val_loss: 0.1331 - val_accuracy: 0.1304 - 64s/epoch - 330ms/step\n",
      "Epoch 17/20\n",
      "195/195 - 64s - loss: 0.0473 - accuracy: 0.2008 - val_loss: 0.1326 - val_accuracy: 0.2075 - 64s/epoch - 329ms/step\n",
      "Epoch 18/20\n",
      "195/195 - 64s - loss: 0.0427 - accuracy: 0.2193 - val_loss: 0.1377 - val_accuracy: 0.2213 - 64s/epoch - 329ms/step\n",
      "Epoch 19/20\n",
      "195/195 - 64s - loss: 0.0398 - accuracy: 0.2280 - val_loss: 0.1406 - val_accuracy: 0.2049 - 64s/epoch - 330ms/step\n",
      "Epoch 20/20\n",
      "195/195 - 64s - loss: 0.0367 - accuracy: 0.2315 - val_loss: 0.1432 - val_accuracy: 0.1982 - 64s/epoch - 328ms/step\n"
     ]
    },
    {
     "data": {
      "text/plain": [
       "<keras.callbacks.History at 0x2ac3523e3e80>"
      ]
     },
     "execution_count": 8,
     "metadata": {},
     "output_type": "execute_result"
    }
   ],
   "source": [
    "optimizer = Adam()\n",
    "model.compile(loss='binary_crossentropy', optimizer=optimizer, metrics=['accuracy'])\n",
    "history = model.fit(x_train, y_train, validation_data=(x_val, y_val), batch_size=128,verbose=2, epochs=10, shuffle=True)"
   ]
  },
  {
   "cell_type": "code",
   "execution_count": 8,
   "id": "great-morgan",
   "metadata": {},
   "outputs": [],
   "source": [
    "model.save_weights(\"model_cloudy_pre_final.h5\")"
   ]
  },
  {
   "cell_type": "code",
   "execution_count": 9,
   "id": "considered-hopkins",
   "metadata": {},
   "outputs": [
    {
     "name": "stderr",
     "output_type": "stream",
     "text": [
      "/home/csci8523/attan005/.local/lib/python3.8/site-packages/keras/optimizers/optimizer_v2/adam.py:117: UserWarning: The `lr` argument is deprecated, use `learning_rate` instead.\n",
      "  super().__init__(name, **kwargs)\n"
     ]
    },
    {
     "name": "stdout",
     "output_type": "stream",
     "text": [
      "Epoch 1/20\n",
      "195/195 - 150s - loss: 0.1401 - val_loss: 0.2169 - 150s/epoch - 771ms/step\n",
      "Epoch 2/20\n",
      "195/195 - 143s - loss: 0.1069 - val_loss: 0.1346 - 143s/epoch - 733ms/step\n",
      "Epoch 3/20\n",
      "195/195 - 143s - loss: 0.0982 - val_loss: 0.1013 - 143s/epoch - 733ms/step\n",
      "Epoch 4/20\n",
      "195/195 - 144s - loss: 0.0916 - val_loss: 0.1017 - 144s/epoch - 737ms/step\n",
      "Epoch 5/20\n",
      "195/195 - 143s - loss: 0.0847 - val_loss: 0.1328 - 143s/epoch - 734ms/step\n",
      "Epoch 6/20\n",
      "195/195 - 143s - loss: 0.0802 - val_loss: 0.1169 - 143s/epoch - 732ms/step\n",
      "Epoch 7/20\n",
      "195/195 - 143s - loss: 0.0742 - val_loss: 0.1132 - 143s/epoch - 733ms/step\n",
      "Epoch 8/20\n",
      "195/195 - 143s - loss: 0.0687 - val_loss: 0.1642 - 143s/epoch - 733ms/step\n",
      "Epoch 9/20\n",
      "195/195 - 143s - loss: 0.0707 - val_loss: 0.1320 - 143s/epoch - 736ms/step\n",
      "Epoch 10/20\n",
      "195/195 - 142s - loss: 0.0655 - val_loss: 0.1239 - 142s/epoch - 730ms/step\n",
      "Epoch 11/20\n",
      "195/195 - 142s - loss: 0.0552 - val_loss: 0.1586 - 142s/epoch - 729ms/step\n",
      "Epoch 12/20\n",
      "195/195 - 143s - loss: 0.0489 - val_loss: 0.1554 - 143s/epoch - 733ms/step\n",
      "Epoch 13/20\n",
      "195/195 - 142s - loss: 0.0422 - val_loss: 0.1687 - 142s/epoch - 730ms/step\n",
      "Epoch 14/20\n",
      "195/195 - 143s - loss: 0.0373 - val_loss: 0.1513 - 143s/epoch - 733ms/step\n",
      "Epoch 15/20\n",
      "195/195 - 142s - loss: 0.0329 - val_loss: 0.1671 - 142s/epoch - 726ms/step\n",
      "Epoch 16/20\n",
      "195/195 - 142s - loss: 0.0289 - val_loss: 0.1660 - 142s/epoch - 729ms/step\n",
      "Epoch 17/20\n",
      "195/195 - 143s - loss: 0.0248 - val_loss: 0.1806 - 143s/epoch - 733ms/step\n",
      "Epoch 18/20\n",
      "195/195 - 146s - loss: 0.0223 - val_loss: 0.2378 - 146s/epoch - 750ms/step\n",
      "Epoch 19/20\n",
      "195/195 - 142s - loss: 0.0198 - val_loss: 0.1893 - 142s/epoch - 730ms/step\n",
      "Epoch 20/20\n",
      "195/195 - 143s - loss: 0.0185 - val_loss: 0.2111 - 143s/epoch - 733ms/step\n"
     ]
    },
    {
     "data": {
      "text/plain": [
       "<keras.callbacks.History at 0x2ac4cd823c10>"
      ]
     },
     "execution_count": 9,
     "metadata": {},
     "output_type": "execute_result"
    }
   ],
   "source": [
    "for layer in pretrained_model.layers[:176]:\n",
    "   layer.trainable = False\n",
    "for layer in pretrained_model.layers[176:]:\n",
    "   layer.trainable = True\n",
    "\n",
    "input_layer = pretrained_model.input\n",
    "model_output = pretrained_model.output\n",
    "pooling_layer = GlobalAveragePooling2D()(model_output)\n",
    "dense_layer = Dense(2048, activation='relu')(pooling_layer)\n",
    "dropout_layer = Dropout(0.5)(dense_layer)\n",
    "output_layer = Dense(17, activation='sigmoid')(dropout_layer)\n",
    "model = Model(inputs=input_layer, outputs=output_layer)\n",
    "model.load_weights(\"model_cloudy_pre_final.h5\")\n",
    "\n",
    "adam = Adam()\n",
    "model.compile(loss='binary_crossentropy', optimizer=adam, metrics=['accuracy'])\n",
    "history = model.fit(x_train, y_train, validation_data=(x_val, y_val), batch_size=128,verbose=2, epochs=10, shuffle=True)"
   ]
  },
  {
   "cell_type": "code",
   "execution_count": 10,
   "id": "heated-michigan",
   "metadata": {},
   "outputs": [],
   "source": [
    "model.save_weights('model_cloudy_final_2.h5')"
   ]
  },
  {
   "cell_type": "code",
   "execution_count": null,
   "id": "metallic-narrow",
   "metadata": {},
   "outputs": [],
   "source": [
    "train_accuracy = history.history['accuracy']\n",
    "val_accuracy = history.history['val_accuracy']\n",
    "train_loss = history.history['loss']\n",
    "val_loss = history.history['val_loss']\n",
    "\n",
    "epochs = range(len(train_accuracy))\n",
    "\n",
    "plt.plot(epochs, train_accuracy, 'r', label='Training accuracy')\n",
    "plt.plot(epochs, val_accuracy, 'b', label='Validation accuracy')\n",
    "plt.title('Training and validation accuracy')\n",
    "plt.legend(loc=0)\n",
    "plt.figure()\n",
    "plt.show()"
   ]
  },
  {
   "cell_type": "code",
   "execution_count": null,
   "id": "duplicate-therapist",
   "metadata": {},
   "outputs": [],
   "source": [
    "plt.plot(epochs, train_loss, 'r', label='Training loss')\n",
    "plt.plot(epochs, val_loss, 'b', label='Validation loss')\n",
    "plt.title('Training and validation loss')\n",
    "plt.legend(loc=0)\n",
    "plt.figure()\n",
    "plt.show()"
   ]
  },
  {
   "cell_type": "code",
   "execution_count": 10,
   "id": "aggressive-experience",
   "metadata": {},
   "outputs": [
    {
     "name": "stdout",
     "output_type": "stream",
     "text": [
      "25/25 - 8s - 8s/epoch - 320ms/step\n"
     ]
    }
   ],
   "source": [
    "y_pred = model.predict(x_test, batch_size = 128, verbose=2)"
   ]
  },
  {
   "cell_type": "code",
   "execution_count": 11,
   "id": "necessary-giant",
   "metadata": {},
   "outputs": [
    {
     "name": "stdout",
     "output_type": "stream",
     "text": [
      "F2 score: 0.9036307461192602\n"
     ]
    }
   ],
   "source": [
    "f2_score = fbeta_score(y_test, np.array(y_pred)>0.2, beta=2, average='samples')\n",
    "print(\"F2 score:\",f2_score)"
   ]
  },
  {
   "cell_type": "code",
   "execution_count": 12,
   "id": "medieval-pharmacy",
   "metadata": {},
   "outputs": [
    {
     "ename": "ValueError",
     "evalue": "Shape of passed values is (16, 5), indices imply (15, 5)",
     "output_type": "error",
     "traceback": [
      "\u001b[0;31m---------------------------------------------------------------------------\u001b[0m",
      "\u001b[0;31mValueError\u001b[0m                                Traceback (most recent call last)",
      "\u001b[0;32m/panfs/roc/msisoft/anaconda/python3-2020.07-mamba/lib/python3.8/site-packages/pandas/core/internals/managers.py\u001b[0m in \u001b[0;36mcreate_block_manager_from_arrays\u001b[0;34m(arrays, names, axes)\u001b[0m\n\u001b[1;32m   1670\u001b[0m         \u001b[0mblocks\u001b[0m \u001b[0;34m=\u001b[0m \u001b[0mform_blocks\u001b[0m\u001b[0;34m(\u001b[0m\u001b[0marrays\u001b[0m\u001b[0;34m,\u001b[0m \u001b[0mnames\u001b[0m\u001b[0;34m,\u001b[0m \u001b[0maxes\u001b[0m\u001b[0;34m)\u001b[0m\u001b[0;34m\u001b[0m\u001b[0;34m\u001b[0m\u001b[0m\n\u001b[0;32m-> 1671\u001b[0;31m         \u001b[0mmgr\u001b[0m \u001b[0;34m=\u001b[0m \u001b[0mBlockManager\u001b[0m\u001b[0;34m(\u001b[0m\u001b[0mblocks\u001b[0m\u001b[0;34m,\u001b[0m \u001b[0maxes\u001b[0m\u001b[0;34m)\u001b[0m\u001b[0;34m\u001b[0m\u001b[0;34m\u001b[0m\u001b[0m\n\u001b[0m\u001b[1;32m   1672\u001b[0m         \u001b[0mmgr\u001b[0m\u001b[0;34m.\u001b[0m\u001b[0m_consolidate_inplace\u001b[0m\u001b[0;34m(\u001b[0m\u001b[0;34m)\u001b[0m\u001b[0;34m\u001b[0m\u001b[0;34m\u001b[0m\u001b[0m\n",
      "\u001b[0;32m/panfs/roc/msisoft/anaconda/python3-2020.07-mamba/lib/python3.8/site-packages/pandas/core/internals/managers.py\u001b[0m in \u001b[0;36m__init__\u001b[0;34m(self, blocks, axes, do_integrity_check)\u001b[0m\n\u001b[1;32m    138\u001b[0m         \u001b[0;32mif\u001b[0m \u001b[0mdo_integrity_check\u001b[0m\u001b[0;34m:\u001b[0m\u001b[0;34m\u001b[0m\u001b[0;34m\u001b[0m\u001b[0m\n\u001b[0;32m--> 139\u001b[0;31m             \u001b[0mself\u001b[0m\u001b[0;34m.\u001b[0m\u001b[0m_verify_integrity\u001b[0m\u001b[0;34m(\u001b[0m\u001b[0;34m)\u001b[0m\u001b[0;34m\u001b[0m\u001b[0;34m\u001b[0m\u001b[0m\n\u001b[0m\u001b[1;32m    140\u001b[0m \u001b[0;34m\u001b[0m\u001b[0m\n",
      "\u001b[0;32m/panfs/roc/msisoft/anaconda/python3-2020.07-mamba/lib/python3.8/site-packages/pandas/core/internals/managers.py\u001b[0m in \u001b[0;36m_verify_integrity\u001b[0;34m(self)\u001b[0m\n\u001b[1;32m    333\u001b[0m             \u001b[0;32mif\u001b[0m \u001b[0mblock\u001b[0m\u001b[0;34m.\u001b[0m\u001b[0m_verify_integrity\u001b[0m \u001b[0;32mand\u001b[0m \u001b[0mblock\u001b[0m\u001b[0;34m.\u001b[0m\u001b[0mshape\u001b[0m\u001b[0;34m[\u001b[0m\u001b[0;36m1\u001b[0m\u001b[0;34m:\u001b[0m\u001b[0;34m]\u001b[0m \u001b[0;34m!=\u001b[0m \u001b[0mmgr_shape\u001b[0m\u001b[0;34m[\u001b[0m\u001b[0;36m1\u001b[0m\u001b[0;34m:\u001b[0m\u001b[0;34m]\u001b[0m\u001b[0;34m:\u001b[0m\u001b[0;34m\u001b[0m\u001b[0;34m\u001b[0m\u001b[0m\n\u001b[0;32m--> 334\u001b[0;31m                 \u001b[0mconstruction_error\u001b[0m\u001b[0;34m(\u001b[0m\u001b[0mtot_items\u001b[0m\u001b[0;34m,\u001b[0m \u001b[0mblock\u001b[0m\u001b[0;34m.\u001b[0m\u001b[0mshape\u001b[0m\u001b[0;34m[\u001b[0m\u001b[0;36m1\u001b[0m\u001b[0;34m:\u001b[0m\u001b[0;34m]\u001b[0m\u001b[0;34m,\u001b[0m \u001b[0mself\u001b[0m\u001b[0;34m.\u001b[0m\u001b[0maxes\u001b[0m\u001b[0;34m)\u001b[0m\u001b[0;34m\u001b[0m\u001b[0;34m\u001b[0m\u001b[0m\n\u001b[0m\u001b[1;32m    335\u001b[0m         \u001b[0;32mif\u001b[0m \u001b[0mlen\u001b[0m\u001b[0;34m(\u001b[0m\u001b[0mself\u001b[0m\u001b[0;34m.\u001b[0m\u001b[0mitems\u001b[0m\u001b[0;34m)\u001b[0m \u001b[0;34m!=\u001b[0m \u001b[0mtot_items\u001b[0m\u001b[0;34m:\u001b[0m\u001b[0;34m\u001b[0m\u001b[0;34m\u001b[0m\u001b[0m\n",
      "\u001b[0;32m/panfs/roc/msisoft/anaconda/python3-2020.07-mamba/lib/python3.8/site-packages/pandas/core/internals/managers.py\u001b[0m in \u001b[0;36mconstruction_error\u001b[0;34m(tot_items, block_shape, axes, e)\u001b[0m\n\u001b[1;32m   1693\u001b[0m         \u001b[0;32mraise\u001b[0m \u001b[0mValueError\u001b[0m\u001b[0;34m(\u001b[0m\u001b[0;34m\"Empty data passed with indices specified.\"\u001b[0m\u001b[0;34m)\u001b[0m\u001b[0;34m\u001b[0m\u001b[0;34m\u001b[0m\u001b[0m\n\u001b[0;32m-> 1694\u001b[0;31m     \u001b[0;32mraise\u001b[0m \u001b[0mValueError\u001b[0m\u001b[0;34m(\u001b[0m\u001b[0;34mf\"Shape of passed values is {passed}, indices imply {implied}\"\u001b[0m\u001b[0;34m)\u001b[0m\u001b[0;34m\u001b[0m\u001b[0;34m\u001b[0m\u001b[0m\n\u001b[0m\u001b[1;32m   1695\u001b[0m \u001b[0;34m\u001b[0m\u001b[0m\n",
      "\u001b[0;31mValueError\u001b[0m: Shape of passed values is (16, 5), indices imply (15, 5)",
      "\nDuring handling of the above exception, another exception occurred:\n",
      "\u001b[0;31mValueError\u001b[0m                                Traceback (most recent call last)",
      "\u001b[0;32m<ipython-input-12-6645cdf4d78e>\u001b[0m in \u001b[0;36m<module>\u001b[0;34m\u001b[0m\n\u001b[1;32m     14\u001b[0m \u001b[0mtotal\u001b[0m\u001b[0;34m,\u001b[0m\u001b[0mtp\u001b[0m\u001b[0;34m,\u001b[0m\u001b[0mtn\u001b[0m\u001b[0;34m,\u001b[0m\u001b[0mfp\u001b[0m\u001b[0;34m,\u001b[0m\u001b[0mfn\u001b[0m \u001b[0;34m=\u001b[0m \u001b[0mmultilabelmetrics\u001b[0m\u001b[0;34m(\u001b[0m\u001b[0my_test\u001b[0m\u001b[0;34m,\u001b[0m\u001b[0mnp\u001b[0m\u001b[0;34m.\u001b[0m\u001b[0marray\u001b[0m\u001b[0;34m(\u001b[0m\u001b[0my_pred\u001b[0m\u001b[0;34m)\u001b[0m\u001b[0;34m>\u001b[0m\u001b[0;36m0.2\u001b[0m\u001b[0;34m)\u001b[0m\u001b[0;34m\u001b[0m\u001b[0;34m\u001b[0m\u001b[0m\n\u001b[1;32m     15\u001b[0m \u001b[0md\u001b[0m \u001b[0;34m=\u001b[0m \u001b[0;34m{\u001b[0m\u001b[0;34m'Total'\u001b[0m\u001b[0;34m:\u001b[0m\u001b[0mtotal\u001b[0m\u001b[0;34m,\u001b[0m\u001b[0;34m'TP'\u001b[0m\u001b[0;34m:\u001b[0m\u001b[0mtp\u001b[0m\u001b[0;34m,\u001b[0m\u001b[0;34m'TN'\u001b[0m\u001b[0;34m:\u001b[0m\u001b[0mtn\u001b[0m\u001b[0;34m,\u001b[0m\u001b[0;34m'FP'\u001b[0m\u001b[0;34m:\u001b[0m\u001b[0mfp\u001b[0m\u001b[0;34m,\u001b[0m\u001b[0;34m'FN'\u001b[0m\u001b[0;34m:\u001b[0m\u001b[0mfn\u001b[0m\u001b[0;34m}\u001b[0m\u001b[0;34m\u001b[0m\u001b[0;34m\u001b[0m\u001b[0m\n\u001b[0;32m---> 16\u001b[0;31m \u001b[0mpd\u001b[0m\u001b[0;34m.\u001b[0m\u001b[0mDataFrame\u001b[0m\u001b[0;34m(\u001b[0m\u001b[0md\u001b[0m\u001b[0;34m,\u001b[0m \u001b[0mindex\u001b[0m\u001b[0;34m=\u001b[0m\u001b[0mlabels\u001b[0m\u001b[0;34m)\u001b[0m\u001b[0;34m\u001b[0m\u001b[0;34m\u001b[0m\u001b[0m\n\u001b[0m\u001b[1;32m     17\u001b[0m \u001b[0;34m\u001b[0m\u001b[0m\n\u001b[1;32m     18\u001b[0m \u001b[0mprecision\u001b[0m \u001b[0;34m=\u001b[0m \u001b[0mnp\u001b[0m\u001b[0;34m.\u001b[0m\u001b[0mdivide\u001b[0m\u001b[0;34m(\u001b[0m\u001b[0mtp\u001b[0m\u001b[0;34m,\u001b[0m \u001b[0mnp\u001b[0m\u001b[0;34m.\u001b[0m\u001b[0msum\u001b[0m\u001b[0;34m(\u001b[0m\u001b[0mtp\u001b[0m\u001b[0;34m,\u001b[0m \u001b[0mfp\u001b[0m\u001b[0;34m)\u001b[0m\u001b[0;34m)\u001b[0m\u001b[0;34m\u001b[0m\u001b[0;34m\u001b[0m\u001b[0m\n",
      "\u001b[0;32m/panfs/roc/msisoft/anaconda/python3-2020.07-mamba/lib/python3.8/site-packages/pandas/core/frame.py\u001b[0m in \u001b[0;36m__init__\u001b[0;34m(self, data, index, columns, dtype, copy)\u001b[0m\n\u001b[1;32m    433\u001b[0m             )\n\u001b[1;32m    434\u001b[0m         \u001b[0;32melif\u001b[0m \u001b[0misinstance\u001b[0m\u001b[0;34m(\u001b[0m\u001b[0mdata\u001b[0m\u001b[0;34m,\u001b[0m \u001b[0mdict\u001b[0m\u001b[0;34m)\u001b[0m\u001b[0;34m:\u001b[0m\u001b[0;34m\u001b[0m\u001b[0;34m\u001b[0m\u001b[0m\n\u001b[0;32m--> 435\u001b[0;31m             \u001b[0mmgr\u001b[0m \u001b[0;34m=\u001b[0m \u001b[0minit_dict\u001b[0m\u001b[0;34m(\u001b[0m\u001b[0mdata\u001b[0m\u001b[0;34m,\u001b[0m \u001b[0mindex\u001b[0m\u001b[0;34m,\u001b[0m \u001b[0mcolumns\u001b[0m\u001b[0;34m,\u001b[0m \u001b[0mdtype\u001b[0m\u001b[0;34m=\u001b[0m\u001b[0mdtype\u001b[0m\u001b[0;34m)\u001b[0m\u001b[0;34m\u001b[0m\u001b[0;34m\u001b[0m\u001b[0m\n\u001b[0m\u001b[1;32m    436\u001b[0m         \u001b[0;32melif\u001b[0m \u001b[0misinstance\u001b[0m\u001b[0;34m(\u001b[0m\u001b[0mdata\u001b[0m\u001b[0;34m,\u001b[0m \u001b[0mma\u001b[0m\u001b[0;34m.\u001b[0m\u001b[0mMaskedArray\u001b[0m\u001b[0;34m)\u001b[0m\u001b[0;34m:\u001b[0m\u001b[0;34m\u001b[0m\u001b[0;34m\u001b[0m\u001b[0m\n\u001b[1;32m    437\u001b[0m             \u001b[0;32mimport\u001b[0m \u001b[0mnumpy\u001b[0m\u001b[0;34m.\u001b[0m\u001b[0mma\u001b[0m\u001b[0;34m.\u001b[0m\u001b[0mmrecords\u001b[0m \u001b[0;32mas\u001b[0m \u001b[0mmrecords\u001b[0m\u001b[0;34m\u001b[0m\u001b[0;34m\u001b[0m\u001b[0m\n",
      "\u001b[0;32m/panfs/roc/msisoft/anaconda/python3-2020.07-mamba/lib/python3.8/site-packages/pandas/core/internals/construction.py\u001b[0m in \u001b[0;36minit_dict\u001b[0;34m(data, index, columns, dtype)\u001b[0m\n\u001b[1;32m    252\u001b[0m             \u001b[0marr\u001b[0m \u001b[0;32mif\u001b[0m \u001b[0;32mnot\u001b[0m \u001b[0mis_datetime64tz_dtype\u001b[0m\u001b[0;34m(\u001b[0m\u001b[0marr\u001b[0m\u001b[0;34m)\u001b[0m \u001b[0;32melse\u001b[0m \u001b[0marr\u001b[0m\u001b[0;34m.\u001b[0m\u001b[0mcopy\u001b[0m\u001b[0;34m(\u001b[0m\u001b[0;34m)\u001b[0m \u001b[0;32mfor\u001b[0m \u001b[0marr\u001b[0m \u001b[0;32min\u001b[0m \u001b[0marrays\u001b[0m\u001b[0;34m\u001b[0m\u001b[0;34m\u001b[0m\u001b[0m\n\u001b[1;32m    253\u001b[0m         ]\n\u001b[0;32m--> 254\u001b[0;31m     \u001b[0;32mreturn\u001b[0m \u001b[0marrays_to_mgr\u001b[0m\u001b[0;34m(\u001b[0m\u001b[0marrays\u001b[0m\u001b[0;34m,\u001b[0m \u001b[0mdata_names\u001b[0m\u001b[0;34m,\u001b[0m \u001b[0mindex\u001b[0m\u001b[0;34m,\u001b[0m \u001b[0mcolumns\u001b[0m\u001b[0;34m,\u001b[0m \u001b[0mdtype\u001b[0m\u001b[0;34m=\u001b[0m\u001b[0mdtype\u001b[0m\u001b[0;34m)\u001b[0m\u001b[0;34m\u001b[0m\u001b[0;34m\u001b[0m\u001b[0m\n\u001b[0m\u001b[1;32m    255\u001b[0m \u001b[0;34m\u001b[0m\u001b[0m\n\u001b[1;32m    256\u001b[0m \u001b[0;34m\u001b[0m\u001b[0m\n",
      "\u001b[0;32m/panfs/roc/msisoft/anaconda/python3-2020.07-mamba/lib/python3.8/site-packages/pandas/core/internals/construction.py\u001b[0m in \u001b[0;36marrays_to_mgr\u001b[0;34m(arrays, arr_names, index, columns, dtype)\u001b[0m\n\u001b[1;32m     72\u001b[0m     \u001b[0maxes\u001b[0m \u001b[0;34m=\u001b[0m \u001b[0;34m[\u001b[0m\u001b[0mensure_index\u001b[0m\u001b[0;34m(\u001b[0m\u001b[0mcolumns\u001b[0m\u001b[0;34m)\u001b[0m\u001b[0;34m,\u001b[0m \u001b[0mindex\u001b[0m\u001b[0;34m]\u001b[0m\u001b[0;34m\u001b[0m\u001b[0;34m\u001b[0m\u001b[0m\n\u001b[1;32m     73\u001b[0m \u001b[0;34m\u001b[0m\u001b[0m\n\u001b[0;32m---> 74\u001b[0;31m     \u001b[0;32mreturn\u001b[0m \u001b[0mcreate_block_manager_from_arrays\u001b[0m\u001b[0;34m(\u001b[0m\u001b[0marrays\u001b[0m\u001b[0;34m,\u001b[0m \u001b[0marr_names\u001b[0m\u001b[0;34m,\u001b[0m \u001b[0maxes\u001b[0m\u001b[0;34m)\u001b[0m\u001b[0;34m\u001b[0m\u001b[0;34m\u001b[0m\u001b[0m\n\u001b[0m\u001b[1;32m     75\u001b[0m \u001b[0;34m\u001b[0m\u001b[0m\n\u001b[1;32m     76\u001b[0m \u001b[0;34m\u001b[0m\u001b[0m\n",
      "\u001b[0;32m/panfs/roc/msisoft/anaconda/python3-2020.07-mamba/lib/python3.8/site-packages/pandas/core/internals/managers.py\u001b[0m in \u001b[0;36mcreate_block_manager_from_arrays\u001b[0;34m(arrays, names, axes)\u001b[0m\n\u001b[1;32m   1673\u001b[0m         \u001b[0;32mreturn\u001b[0m \u001b[0mmgr\u001b[0m\u001b[0;34m\u001b[0m\u001b[0;34m\u001b[0m\u001b[0m\n\u001b[1;32m   1674\u001b[0m     \u001b[0;32mexcept\u001b[0m \u001b[0mValueError\u001b[0m \u001b[0;32mas\u001b[0m \u001b[0me\u001b[0m\u001b[0;34m:\u001b[0m\u001b[0;34m\u001b[0m\u001b[0;34m\u001b[0m\u001b[0m\n\u001b[0;32m-> 1675\u001b[0;31m         \u001b[0mconstruction_error\u001b[0m\u001b[0;34m(\u001b[0m\u001b[0mlen\u001b[0m\u001b[0;34m(\u001b[0m\u001b[0marrays\u001b[0m\u001b[0;34m)\u001b[0m\u001b[0;34m,\u001b[0m \u001b[0marrays\u001b[0m\u001b[0;34m[\u001b[0m\u001b[0;36m0\u001b[0m\u001b[0;34m]\u001b[0m\u001b[0;34m.\u001b[0m\u001b[0mshape\u001b[0m\u001b[0;34m,\u001b[0m \u001b[0maxes\u001b[0m\u001b[0;34m,\u001b[0m \u001b[0me\u001b[0m\u001b[0;34m)\u001b[0m\u001b[0;34m\u001b[0m\u001b[0;34m\u001b[0m\u001b[0m\n\u001b[0m\u001b[1;32m   1676\u001b[0m \u001b[0;34m\u001b[0m\u001b[0m\n\u001b[1;32m   1677\u001b[0m \u001b[0;34m\u001b[0m\u001b[0m\n",
      "\u001b[0;32m/panfs/roc/msisoft/anaconda/python3-2020.07-mamba/lib/python3.8/site-packages/pandas/core/internals/managers.py\u001b[0m in \u001b[0;36mconstruction_error\u001b[0;34m(tot_items, block_shape, axes, e)\u001b[0m\n\u001b[1;32m   1692\u001b[0m     \u001b[0;32mif\u001b[0m \u001b[0mblock_shape\u001b[0m\u001b[0;34m[\u001b[0m\u001b[0;36m0\u001b[0m\u001b[0;34m]\u001b[0m \u001b[0;34m==\u001b[0m \u001b[0;36m0\u001b[0m\u001b[0;34m:\u001b[0m\u001b[0;34m\u001b[0m\u001b[0;34m\u001b[0m\u001b[0m\n\u001b[1;32m   1693\u001b[0m         \u001b[0;32mraise\u001b[0m \u001b[0mValueError\u001b[0m\u001b[0;34m(\u001b[0m\u001b[0;34m\"Empty data passed with indices specified.\"\u001b[0m\u001b[0;34m)\u001b[0m\u001b[0;34m\u001b[0m\u001b[0;34m\u001b[0m\u001b[0m\n\u001b[0;32m-> 1694\u001b[0;31m     \u001b[0;32mraise\u001b[0m \u001b[0mValueError\u001b[0m\u001b[0;34m(\u001b[0m\u001b[0;34mf\"Shape of passed values is {passed}, indices imply {implied}\"\u001b[0m\u001b[0;34m)\u001b[0m\u001b[0;34m\u001b[0m\u001b[0;34m\u001b[0m\u001b[0m\n\u001b[0m\u001b[1;32m   1695\u001b[0m \u001b[0;34m\u001b[0m\u001b[0m\n\u001b[1;32m   1696\u001b[0m \u001b[0;34m\u001b[0m\u001b[0m\n",
      "\u001b[0;31mValueError\u001b[0m: Shape of passed values is (16, 5), indices imply (15, 5)"
     ]
    }
   ],
   "source": [
    "y_pred = np.array(y_pred)>0.2\n",
    "total = np.sum(y_test,axis = 0)\n",
    "tp = np.sum(y_test*y_pred,axis=0)\n",
    "tn = np.sum((1-y_test)*(1-y_pred),axis=0)\n",
    "fp = np.sum((1-y_test)*y_pred,axis=0)\n",
    "fn = np.sum(y_test*(1-y_pred),axis=0)\n",
    "\n",
    "d = {'Total':total,'TP':tp,'TN':tn,'FP':fp,'FN':fn}\n",
    "pd.DataFrame(d, index=label_map)\n"
   ]
  },
  {
   "cell_type": "code",
   "execution_count": null,
   "id": "amazing-litigation",
   "metadata": {},
   "outputs": [],
   "source": [
    "sum = np.add(tp, fp)\n",
    "precision = np.divide(tp, sum)\n",
    "recall = np.divide(tp, np.add(tp, fn))\n",
    "accuracy = np.divide(np.add(tp, tn), np.add(fp, np.add(fn, np.add(tp, tn))))\n",
    "f1 = 2*(np.divide(np.multiply(precision, recall), np.add(precision, recall)))\n",
    "f2 = (np.divide(5*np.multiply(precision, recall), np.add(4*precision, recall)))\n",
    "evalution_metrics = {'Accuracy':accuracy,'Precision':precision,'Recall':recall,'f1':f1, 'f2': f2}\n",
    "pd.DataFrame(evalution_metrics, index=label_map)"
   ]
  },
  {
   "cell_type": "code",
   "execution_count": null,
   "id": "owned-silly",
   "metadata": {},
   "outputs": [],
   "source": []
  }
 ],
 "metadata": {
  "kernelspec": {
   "display_name": "Python3.8.3",
   "language": "python",
   "name": "python3.8.3"
  },
  "language_info": {
   "codemirror_mode": {
    "name": "ipython",
    "version": 3
   },
   "file_extension": ".py",
   "mimetype": "text/x-python",
   "name": "python",
   "nbconvert_exporter": "python",
   "pygments_lexer": "ipython3",
   "version": "3.8.3"
  }
 },
 "nbformat": 4,
 "nbformat_minor": 5
}
